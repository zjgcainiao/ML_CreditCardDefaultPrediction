{
 "cells": [
  {
   "cell_type": "markdown",
   "metadata": {},
   "source": [
    "# Predicting the Default Rate for Credit Card Application"
   ]
  },
  {
   "cell_type": "markdown",
   "metadata": {},
   "source": [
    "## The goal of this project is to show how to predict default on borrowing from the banks by using statistical `exploratory data analysis`, `machine learning` and `deep learning`. "
   ]
  },
  {
   "cell_type": "markdown",
   "metadata": {},
   "source": [
    "** *------------------------------------------------------------* **\n",
    "# Import some Libraries "
   ]
  },
  {
   "cell_type": "code",
   "execution_count": 64,
   "metadata": {},
   "outputs": [],
   "source": [
    "import pandas as pd\n",
    "import numpy as np\n",
    "import seaborn as sns\n",
    "import matplotlib.pyplot as plt\n",
    "from datetime import datetime\n",
    "from sklearn import tree\n",
    "\n",
    "from matplotlib import pyplot as plt\n",
    "import seaborn as sns\n",
    "\n",
    "import graphviz\n",
    "import pydotplus\n",
    "import io\n",
    "from scipy import misc\n",
    "\n",
    "from sklearn.model_selection import train_test_split\n",
    "from sklearn.metrics import accuracy_score, recall_score, precision_score, confusion_matrix, precision_recall_curve, classification_report\n",
    "from sklearn.preprocessing import RobustScaler\n",
    "\n",
    "import os     \n",
    "os.environ[\"PATH\"] += os.pathsep + 'C:/Users/abulla/Anaconda3/Lib/site-packages/graphviz/'\n",
    "from sklearn.tree import export_graphviz\n"
   ]
  },
  {
   "cell_type": "markdown",
   "metadata": {},
   "source": [
    "---------------------------------------"
   ]
  },
  {
   "cell_type": "markdown",
   "metadata": {},
   "source": [
    "## Get the Data"
   ]
  },
  {
   "cell_type": "code",
   "execution_count": 65,
   "metadata": {},
   "outputs": [],
   "source": [
    " df = pd.read_csv(\"default_of_credit_card.csv\", header = 1)"
   ]
  },
  {
   "cell_type": "code",
   "execution_count": 66,
   "metadata": {},
   "outputs": [
    {
     "data": {
      "text/html": [
       "<div>\n",
       "<style scoped>\n",
       "    .dataframe tbody tr th:only-of-type {\n",
       "        vertical-align: middle;\n",
       "    }\n",
       "\n",
       "    .dataframe tbody tr th {\n",
       "        vertical-align: top;\n",
       "    }\n",
       "\n",
       "    .dataframe thead th {\n",
       "        text-align: right;\n",
       "    }\n",
       "</style>\n",
       "<table border=\"1\" class=\"dataframe\">\n",
       "  <thead>\n",
       "    <tr style=\"text-align: right;\">\n",
       "      <th></th>\n",
       "      <th>ID</th>\n",
       "      <th>LIMIT_BAL</th>\n",
       "      <th>SEX</th>\n",
       "      <th>EDUCATION</th>\n",
       "      <th>MARRIAGE</th>\n",
       "      <th>AGE</th>\n",
       "      <th>PAY_0</th>\n",
       "      <th>PAY_2</th>\n",
       "      <th>PAY_3</th>\n",
       "      <th>PAY_4</th>\n",
       "      <th>...</th>\n",
       "      <th>BILL_AMT4</th>\n",
       "      <th>BILL_AMT5</th>\n",
       "      <th>BILL_AMT6</th>\n",
       "      <th>PAY_AMT1</th>\n",
       "      <th>PAY_AMT2</th>\n",
       "      <th>PAY_AMT3</th>\n",
       "      <th>PAY_AMT4</th>\n",
       "      <th>PAY_AMT5</th>\n",
       "      <th>PAY_AMT6</th>\n",
       "      <th>default payment next month</th>\n",
       "    </tr>\n",
       "  </thead>\n",
       "  <tbody>\n",
       "    <tr>\n",
       "      <th>0</th>\n",
       "      <td>1</td>\n",
       "      <td>20000</td>\n",
       "      <td>2</td>\n",
       "      <td>2</td>\n",
       "      <td>1</td>\n",
       "      <td>24</td>\n",
       "      <td>2</td>\n",
       "      <td>2</td>\n",
       "      <td>-1</td>\n",
       "      <td>-1</td>\n",
       "      <td>...</td>\n",
       "      <td>0</td>\n",
       "      <td>0</td>\n",
       "      <td>0</td>\n",
       "      <td>0</td>\n",
       "      <td>689</td>\n",
       "      <td>0</td>\n",
       "      <td>0</td>\n",
       "      <td>0</td>\n",
       "      <td>0</td>\n",
       "      <td>1</td>\n",
       "    </tr>\n",
       "    <tr>\n",
       "      <th>1</th>\n",
       "      <td>2</td>\n",
       "      <td>120000</td>\n",
       "      <td>2</td>\n",
       "      <td>2</td>\n",
       "      <td>2</td>\n",
       "      <td>26</td>\n",
       "      <td>-1</td>\n",
       "      <td>2</td>\n",
       "      <td>0</td>\n",
       "      <td>0</td>\n",
       "      <td>...</td>\n",
       "      <td>3272</td>\n",
       "      <td>3455</td>\n",
       "      <td>3261</td>\n",
       "      <td>0</td>\n",
       "      <td>1000</td>\n",
       "      <td>1000</td>\n",
       "      <td>1000</td>\n",
       "      <td>0</td>\n",
       "      <td>2000</td>\n",
       "      <td>1</td>\n",
       "    </tr>\n",
       "    <tr>\n",
       "      <th>2</th>\n",
       "      <td>3</td>\n",
       "      <td>90000</td>\n",
       "      <td>2</td>\n",
       "      <td>2</td>\n",
       "      <td>2</td>\n",
       "      <td>34</td>\n",
       "      <td>0</td>\n",
       "      <td>0</td>\n",
       "      <td>0</td>\n",
       "      <td>0</td>\n",
       "      <td>...</td>\n",
       "      <td>14331</td>\n",
       "      <td>14948</td>\n",
       "      <td>15549</td>\n",
       "      <td>1518</td>\n",
       "      <td>1500</td>\n",
       "      <td>1000</td>\n",
       "      <td>1000</td>\n",
       "      <td>1000</td>\n",
       "      <td>5000</td>\n",
       "      <td>0</td>\n",
       "    </tr>\n",
       "    <tr>\n",
       "      <th>3</th>\n",
       "      <td>4</td>\n",
       "      <td>50000</td>\n",
       "      <td>2</td>\n",
       "      <td>2</td>\n",
       "      <td>1</td>\n",
       "      <td>37</td>\n",
       "      <td>0</td>\n",
       "      <td>0</td>\n",
       "      <td>0</td>\n",
       "      <td>0</td>\n",
       "      <td>...</td>\n",
       "      <td>28314</td>\n",
       "      <td>28959</td>\n",
       "      <td>29547</td>\n",
       "      <td>2000</td>\n",
       "      <td>2019</td>\n",
       "      <td>1200</td>\n",
       "      <td>1100</td>\n",
       "      <td>1069</td>\n",
       "      <td>1000</td>\n",
       "      <td>0</td>\n",
       "    </tr>\n",
       "    <tr>\n",
       "      <th>4</th>\n",
       "      <td>5</td>\n",
       "      <td>50000</td>\n",
       "      <td>1</td>\n",
       "      <td>2</td>\n",
       "      <td>1</td>\n",
       "      <td>57</td>\n",
       "      <td>-1</td>\n",
       "      <td>0</td>\n",
       "      <td>-1</td>\n",
       "      <td>0</td>\n",
       "      <td>...</td>\n",
       "      <td>20940</td>\n",
       "      <td>19146</td>\n",
       "      <td>19131</td>\n",
       "      <td>2000</td>\n",
       "      <td>36681</td>\n",
       "      <td>10000</td>\n",
       "      <td>9000</td>\n",
       "      <td>689</td>\n",
       "      <td>679</td>\n",
       "      <td>0</td>\n",
       "    </tr>\n",
       "  </tbody>\n",
       "</table>\n",
       "<p>5 rows × 25 columns</p>\n",
       "</div>"
      ],
      "text/plain": [
       "   ID  LIMIT_BAL  SEX  EDUCATION  MARRIAGE  AGE  PAY_0  PAY_2  PAY_3  PAY_4  \\\n",
       "0   1      20000    2          2         1   24      2      2     -1     -1   \n",
       "1   2     120000    2          2         2   26     -1      2      0      0   \n",
       "2   3      90000    2          2         2   34      0      0      0      0   \n",
       "3   4      50000    2          2         1   37      0      0      0      0   \n",
       "4   5      50000    1          2         1   57     -1      0     -1      0   \n",
       "\n",
       "              ...              BILL_AMT4  BILL_AMT5  BILL_AMT6  PAY_AMT1  \\\n",
       "0             ...                      0          0          0         0   \n",
       "1             ...                   3272       3455       3261         0   \n",
       "2             ...                  14331      14948      15549      1518   \n",
       "3             ...                  28314      28959      29547      2000   \n",
       "4             ...                  20940      19146      19131      2000   \n",
       "\n",
       "   PAY_AMT2  PAY_AMT3  PAY_AMT4  PAY_AMT5  PAY_AMT6  \\\n",
       "0       689         0         0         0         0   \n",
       "1      1000      1000      1000         0      2000   \n",
       "2      1500      1000      1000      1000      5000   \n",
       "3      2019      1200      1100      1069      1000   \n",
       "4     36681     10000      9000       689       679   \n",
       "\n",
       "   default payment next month  \n",
       "0                           1  \n",
       "1                           1  \n",
       "2                           0  \n",
       "3                           0  \n",
       "4                           0  \n",
       "\n",
       "[5 rows x 25 columns]"
      ]
     },
     "execution_count": 66,
     "metadata": {},
     "output_type": "execute_result"
    }
   ],
   "source": [
    "df.head()"
   ]
  },
  {
   "cell_type": "markdown",
   "metadata": {},
   "source": [
    "* we can see from the data that:\n",
    "    * the titles of the features are in capital. We need to change them to lowercase.\n",
    "    * PAY_1, is missing. PAY_0 is meant to be PAY_1"
   ]
  },
  {
   "cell_type": "code",
   "execution_count": 67,
   "metadata": {},
   "outputs": [
    {
     "data": {
      "text/plain": [
       "Index(['limit_bal', 'sex', 'education', 'marriage', 'age', 'pay_1', 'pay_2',\n",
       "       'pay_3', 'pay_4', 'pay_5', 'pay_6', 'bill_amt1', 'bill_amt2',\n",
       "       'bill_amt3', 'bill_amt4', 'bill_amt5', 'bill_amt6', 'pay_amt1',\n",
       "       'pay_amt2', 'pay_amt3', 'pay_amt4', 'pay_amt5', 'pay_amt6',\n",
       "       'default payment next month'],\n",
       "      dtype='object')"
      ]
     },
     "execution_count": 67,
     "metadata": {},
     "output_type": "execute_result"
    }
   ],
   "source": [
    "df.columns = [x.lower() for x in df.columns]\n",
    "credit_default = df.rename(index=str, columns={\"pay_0\": \"pay_1\"})\n",
    "credit_default = credit_default.drop('id', axis=1)\n",
    "credit_default.columns\n"
   ]
  },
  {
   "cell_type": "code",
   "execution_count": 68,
   "metadata": {},
   "outputs": [
    {
     "data": {
      "text/html": [
       "<div>\n",
       "<style scoped>\n",
       "    .dataframe tbody tr th:only-of-type {\n",
       "        vertical-align: middle;\n",
       "    }\n",
       "\n",
       "    .dataframe tbody tr th {\n",
       "        vertical-align: top;\n",
       "    }\n",
       "\n",
       "    .dataframe thead th {\n",
       "        text-align: right;\n",
       "    }\n",
       "</style>\n",
       "<table border=\"1\" class=\"dataframe\">\n",
       "  <thead>\n",
       "    <tr style=\"text-align: right;\">\n",
       "      <th></th>\n",
       "      <th>limit_bal</th>\n",
       "      <th>sex</th>\n",
       "      <th>education</th>\n",
       "      <th>marriage</th>\n",
       "      <th>age</th>\n",
       "      <th>pay_1</th>\n",
       "      <th>pay_2</th>\n",
       "      <th>pay_3</th>\n",
       "      <th>pay_4</th>\n",
       "      <th>pay_5</th>\n",
       "      <th>...</th>\n",
       "      <th>bill_amt4</th>\n",
       "      <th>bill_amt5</th>\n",
       "      <th>bill_amt6</th>\n",
       "      <th>pay_amt1</th>\n",
       "      <th>pay_amt2</th>\n",
       "      <th>pay_amt3</th>\n",
       "      <th>pay_amt4</th>\n",
       "      <th>pay_amt5</th>\n",
       "      <th>pay_amt6</th>\n",
       "      <th>default payment next month</th>\n",
       "    </tr>\n",
       "  </thead>\n",
       "  <tbody>\n",
       "    <tr>\n",
       "      <th>0</th>\n",
       "      <td>20000</td>\n",
       "      <td>2</td>\n",
       "      <td>2</td>\n",
       "      <td>1</td>\n",
       "      <td>24</td>\n",
       "      <td>2</td>\n",
       "      <td>2</td>\n",
       "      <td>-1</td>\n",
       "      <td>-1</td>\n",
       "      <td>-2</td>\n",
       "      <td>...</td>\n",
       "      <td>0</td>\n",
       "      <td>0</td>\n",
       "      <td>0</td>\n",
       "      <td>0</td>\n",
       "      <td>689</td>\n",
       "      <td>0</td>\n",
       "      <td>0</td>\n",
       "      <td>0</td>\n",
       "      <td>0</td>\n",
       "      <td>1</td>\n",
       "    </tr>\n",
       "    <tr>\n",
       "      <th>1</th>\n",
       "      <td>120000</td>\n",
       "      <td>2</td>\n",
       "      <td>2</td>\n",
       "      <td>2</td>\n",
       "      <td>26</td>\n",
       "      <td>-1</td>\n",
       "      <td>2</td>\n",
       "      <td>0</td>\n",
       "      <td>0</td>\n",
       "      <td>0</td>\n",
       "      <td>...</td>\n",
       "      <td>3272</td>\n",
       "      <td>3455</td>\n",
       "      <td>3261</td>\n",
       "      <td>0</td>\n",
       "      <td>1000</td>\n",
       "      <td>1000</td>\n",
       "      <td>1000</td>\n",
       "      <td>0</td>\n",
       "      <td>2000</td>\n",
       "      <td>1</td>\n",
       "    </tr>\n",
       "    <tr>\n",
       "      <th>2</th>\n",
       "      <td>90000</td>\n",
       "      <td>2</td>\n",
       "      <td>2</td>\n",
       "      <td>2</td>\n",
       "      <td>34</td>\n",
       "      <td>0</td>\n",
       "      <td>0</td>\n",
       "      <td>0</td>\n",
       "      <td>0</td>\n",
       "      <td>0</td>\n",
       "      <td>...</td>\n",
       "      <td>14331</td>\n",
       "      <td>14948</td>\n",
       "      <td>15549</td>\n",
       "      <td>1518</td>\n",
       "      <td>1500</td>\n",
       "      <td>1000</td>\n",
       "      <td>1000</td>\n",
       "      <td>1000</td>\n",
       "      <td>5000</td>\n",
       "      <td>0</td>\n",
       "    </tr>\n",
       "    <tr>\n",
       "      <th>3</th>\n",
       "      <td>50000</td>\n",
       "      <td>2</td>\n",
       "      <td>2</td>\n",
       "      <td>1</td>\n",
       "      <td>37</td>\n",
       "      <td>0</td>\n",
       "      <td>0</td>\n",
       "      <td>0</td>\n",
       "      <td>0</td>\n",
       "      <td>0</td>\n",
       "      <td>...</td>\n",
       "      <td>28314</td>\n",
       "      <td>28959</td>\n",
       "      <td>29547</td>\n",
       "      <td>2000</td>\n",
       "      <td>2019</td>\n",
       "      <td>1200</td>\n",
       "      <td>1100</td>\n",
       "      <td>1069</td>\n",
       "      <td>1000</td>\n",
       "      <td>0</td>\n",
       "    </tr>\n",
       "    <tr>\n",
       "      <th>4</th>\n",
       "      <td>50000</td>\n",
       "      <td>1</td>\n",
       "      <td>2</td>\n",
       "      <td>1</td>\n",
       "      <td>57</td>\n",
       "      <td>-1</td>\n",
       "      <td>0</td>\n",
       "      <td>-1</td>\n",
       "      <td>0</td>\n",
       "      <td>0</td>\n",
       "      <td>...</td>\n",
       "      <td>20940</td>\n",
       "      <td>19146</td>\n",
       "      <td>19131</td>\n",
       "      <td>2000</td>\n",
       "      <td>36681</td>\n",
       "      <td>10000</td>\n",
       "      <td>9000</td>\n",
       "      <td>689</td>\n",
       "      <td>679</td>\n",
       "      <td>0</td>\n",
       "    </tr>\n",
       "  </tbody>\n",
       "</table>\n",
       "<p>5 rows × 24 columns</p>\n",
       "</div>"
      ],
      "text/plain": [
       "   limit_bal  sex  education  marriage  age  pay_1  pay_2  pay_3  pay_4  \\\n",
       "0      20000    2          2         1   24      2      2     -1     -1   \n",
       "1     120000    2          2         2   26     -1      2      0      0   \n",
       "2      90000    2          2         2   34      0      0      0      0   \n",
       "3      50000    2          2         1   37      0      0      0      0   \n",
       "4      50000    1          2         1   57     -1      0     -1      0   \n",
       "\n",
       "   pay_5             ...              bill_amt4  bill_amt5  bill_amt6  \\\n",
       "0     -2             ...                      0          0          0   \n",
       "1      0             ...                   3272       3455       3261   \n",
       "2      0             ...                  14331      14948      15549   \n",
       "3      0             ...                  28314      28959      29547   \n",
       "4      0             ...                  20940      19146      19131   \n",
       "\n",
       "   pay_amt1  pay_amt2  pay_amt3  pay_amt4  pay_amt5  pay_amt6  \\\n",
       "0         0       689         0         0         0         0   \n",
       "1         0      1000      1000      1000         0      2000   \n",
       "2      1518      1500      1000      1000      1000      5000   \n",
       "3      2000      2019      1200      1100      1069      1000   \n",
       "4      2000     36681     10000      9000       689       679   \n",
       "\n",
       "   default payment next month  \n",
       "0                           1  \n",
       "1                           1  \n",
       "2                           0  \n",
       "3                           0  \n",
       "4                           0  \n",
       "\n",
       "[5 rows x 24 columns]"
      ]
     },
     "execution_count": 68,
     "metadata": {},
     "output_type": "execute_result"
    }
   ],
   "source": [
    "credit_default.head()"
   ]
  },
  {
   "cell_type": "markdown",
   "metadata": {},
   "source": [
    "# Attribute Information:\n",
    "### 23 variables as explanatory variables: PLEASE Double Click on the Table to read the Markdown clearly.\n",
    "\n",
    "|-----------------------------|-------------------------------------------------------------|\n",
    "| Variables                   | Description                                                 |\n",
    "|-----------------------------|-------------------------------------------------------------|\n",
    "| Yes = 1, No = 0             | default payment                                             |\n",
    "|-----------------------------|-------------------------------------------------------------|\n",
    "| limit_bal (X1)              | Amount of the given credit (NT dollar):                     |\n",
    "|                             |   it includes both the individual consumer credit and       |\n",
    "|                             |   his/her family (supplementary) credit.                    |\n",
    "|-----------------------------|-------------------------------------------------------------|\n",
    "| sex (X2)                    | 1 = male; 2 = female                                        |\n",
    "|-----------------------------|-------------------------------------------------------------|\n",
    "| education (X3)              | 1 = graduate school; 2 = university;                        | \n",
    "|                             | 3 = high school; 4 = others                                 |\n",
    "|-----------------------------|-------------------------------------------------------------|\n",
    "| marriage (X4)               | 1 = married; 2 = single; 3 = others                         |\n",
    "|-----------------------------|-------------------------------------------------------------|\n",
    "| age (X5)                    | year                                                        |\n",
    "|-----------------------------|-------------------------------------------------------------|\n",
    "| pay_1 - pay_6               | History of past payment.                                    |\n",
    "|   (X6 - X11)                |  X6 = the repayment status in September, 2005;              |\n",
    "|                             |  X7 = the repayment status in August, 2005; . . .;          | |                             |  X11 = the repayment status in April, 2005.                 |\n",
    "|                             | The measurement scale for the repayment status is:          | |                             |   -1 = pay duly; 1 = payment delay for one month;           |\n",
    "|                             |    2 = payment delay for two months; . . .;                 |\n",
    "|                             |    8 = payment delay for eight months;                      |\n",
    "|                             |    9 = payment delay for nine months and above.             |\n",
    "|-----------------------------|-------------------------------------------------------------|\n",
    "| bill_amt1 - bill_amt6       | Amount of bill statement (NT dollar).                       | |   (X12 -X17)                |  X12 = amount of bill statement in September, 2005;         |\n",
    "|                             |  X13 = amount of bill statement in August, 2005; . . .;     |\n",
    "|                             |  X17 = amount of bill statement in April, 2005.             |\n",
    "|-----------------------------|-------------------------------------------------------------|\n",
    "| pay_amt1 - pay_amt6         | Amount of previous payment (NT dollar).                     |\n",
    "|                             |  X18 = amount paid in September, 2005;                      | |                             |  X19 = amount paid in August, 2005; . . .;                  |\n",
    "|                             |  X23 = amount paid in April, 2005.                          |\n",
    "|-----------------------------|-------------------------------------------------------------|\n"
   ]
  },
  {
   "cell_type": "markdown",
   "metadata": {},
   "source": [
    "** Use info and describe() on fd**"
   ]
  },
  {
   "cell_type": "code",
   "execution_count": 69,
   "metadata": {},
   "outputs": [
    {
     "name": "stdout",
     "output_type": "stream",
     "text": [
      "<class 'pandas.core.frame.DataFrame'>\n",
      "Index: 30000 entries, 0 to 29999\n",
      "Data columns (total 24 columns):\n",
      "limit_bal                     30000 non-null int64\n",
      "sex                           30000 non-null int64\n",
      "education                     30000 non-null int64\n",
      "marriage                      30000 non-null int64\n",
      "age                           30000 non-null int64\n",
      "pay_1                         30000 non-null int64\n",
      "pay_2                         30000 non-null int64\n",
      "pay_3                         30000 non-null int64\n",
      "pay_4                         30000 non-null int64\n",
      "pay_5                         30000 non-null int64\n",
      "pay_6                         30000 non-null int64\n",
      "bill_amt1                     30000 non-null int64\n",
      "bill_amt2                     30000 non-null int64\n",
      "bill_amt3                     30000 non-null int64\n",
      "bill_amt4                     30000 non-null int64\n",
      "bill_amt5                     30000 non-null int64\n",
      "bill_amt6                     30000 non-null int64\n",
      "pay_amt1                      30000 non-null int64\n",
      "pay_amt2                      30000 non-null int64\n",
      "pay_amt3                      30000 non-null int64\n",
      "pay_amt4                      30000 non-null int64\n",
      "pay_amt5                      30000 non-null int64\n",
      "pay_amt6                      30000 non-null int64\n",
      "default payment next month    30000 non-null int64\n",
      "dtypes: int64(24)\n",
      "memory usage: 5.7+ MB\n"
     ]
    }
   ],
   "source": [
    "credit_default.info()"
   ]
  },
  {
   "cell_type": "markdown",
   "metadata": {
    "scrolled": true
   },
   "source": [
    "---------------------------------------------"
   ]
  },
  {
   "cell_type": "markdown",
   "metadata": {},
   "source": [
    "##  Data Preprocessing"
   ]
  },
  {
   "cell_type": "code",
   "execution_count": 70,
   "metadata": {},
   "outputs": [],
   "source": [
    "# Transform some attributes such as female, other_education, not_married\n",
    "# Use n-1 rull.\n",
    "credit_default['grad_school'] = (credit_default['education']==1).astype('int')\n",
    "credit_default['university'] = (credit_default['education']==2).astype('int')\n",
    "credit_default['high_school'] = (credit_default['education']==3).astype('int')\n",
    "credit_default.drop('education', axis=1, inplace=True)\n"
   ]
  },
  {
   "cell_type": "code",
   "execution_count": 71,
   "metadata": {},
   "outputs": [],
   "source": [
    "credit_default['male'] = (credit_default['sex']==1).astype('int')\n",
    "credit_default.drop('sex', axis=1, inplace=True)\n",
    "\n",
    "credit_default['married'] = (credit_default['marriage']==1).astype('int')\n",
    "credit_default.drop('marriage', axis =1, inplace=True)"
   ]
  },
  {
   "cell_type": "code",
   "execution_count": 72,
   "metadata": {},
   "outputs": [],
   "source": [
    "#  if the `pay_features` <= 0 then it means it was not delayed\n",
    "pay_features = ['pay_1', 'pay_2', 'pay_3', 'pay_4', 'pay_5', 'pay_6']\n",
    "for j in pay_features:\n",
    "    credit_default.loc[credit_default[j]<=0, j] = 0\n",
    "credit_default.rename(columns={'default payment next month': 'default'}, inplace =True)"
   ]
  },
  {
   "cell_type": "code",
   "execution_count": 73,
   "metadata": {},
   "outputs": [
    {
     "data": {
      "text/html": [
       "<div>\n",
       "<style scoped>\n",
       "    .dataframe tbody tr th:only-of-type {\n",
       "        vertical-align: middle;\n",
       "    }\n",
       "\n",
       "    .dataframe tbody tr th {\n",
       "        vertical-align: top;\n",
       "    }\n",
       "\n",
       "    .dataframe thead th {\n",
       "        text-align: right;\n",
       "    }\n",
       "</style>\n",
       "<table border=\"1\" class=\"dataframe\">\n",
       "  <thead>\n",
       "    <tr style=\"text-align: right;\">\n",
       "      <th></th>\n",
       "      <th>limit_bal</th>\n",
       "      <th>age</th>\n",
       "      <th>pay_1</th>\n",
       "      <th>pay_2</th>\n",
       "      <th>pay_3</th>\n",
       "      <th>pay_4</th>\n",
       "      <th>pay_5</th>\n",
       "      <th>pay_6</th>\n",
       "      <th>bill_amt1</th>\n",
       "      <th>bill_amt2</th>\n",
       "      <th>...</th>\n",
       "      <th>pay_amt3</th>\n",
       "      <th>pay_amt4</th>\n",
       "      <th>pay_amt5</th>\n",
       "      <th>pay_amt6</th>\n",
       "      <th>default</th>\n",
       "      <th>grad_school</th>\n",
       "      <th>university</th>\n",
       "      <th>high_school</th>\n",
       "      <th>male</th>\n",
       "      <th>married</th>\n",
       "    </tr>\n",
       "  </thead>\n",
       "  <tbody>\n",
       "    <tr>\n",
       "      <th>0</th>\n",
       "      <td>20000</td>\n",
       "      <td>24</td>\n",
       "      <td>2</td>\n",
       "      <td>2</td>\n",
       "      <td>0</td>\n",
       "      <td>0</td>\n",
       "      <td>0</td>\n",
       "      <td>0</td>\n",
       "      <td>3913</td>\n",
       "      <td>3102</td>\n",
       "      <td>...</td>\n",
       "      <td>0</td>\n",
       "      <td>0</td>\n",
       "      <td>0</td>\n",
       "      <td>0</td>\n",
       "      <td>1</td>\n",
       "      <td>0</td>\n",
       "      <td>1</td>\n",
       "      <td>0</td>\n",
       "      <td>0</td>\n",
       "      <td>1</td>\n",
       "    </tr>\n",
       "    <tr>\n",
       "      <th>1</th>\n",
       "      <td>120000</td>\n",
       "      <td>26</td>\n",
       "      <td>0</td>\n",
       "      <td>2</td>\n",
       "      <td>0</td>\n",
       "      <td>0</td>\n",
       "      <td>0</td>\n",
       "      <td>2</td>\n",
       "      <td>2682</td>\n",
       "      <td>1725</td>\n",
       "      <td>...</td>\n",
       "      <td>1000</td>\n",
       "      <td>1000</td>\n",
       "      <td>0</td>\n",
       "      <td>2000</td>\n",
       "      <td>1</td>\n",
       "      <td>0</td>\n",
       "      <td>1</td>\n",
       "      <td>0</td>\n",
       "      <td>0</td>\n",
       "      <td>0</td>\n",
       "    </tr>\n",
       "    <tr>\n",
       "      <th>2</th>\n",
       "      <td>90000</td>\n",
       "      <td>34</td>\n",
       "      <td>0</td>\n",
       "      <td>0</td>\n",
       "      <td>0</td>\n",
       "      <td>0</td>\n",
       "      <td>0</td>\n",
       "      <td>0</td>\n",
       "      <td>29239</td>\n",
       "      <td>14027</td>\n",
       "      <td>...</td>\n",
       "      <td>1000</td>\n",
       "      <td>1000</td>\n",
       "      <td>1000</td>\n",
       "      <td>5000</td>\n",
       "      <td>0</td>\n",
       "      <td>0</td>\n",
       "      <td>1</td>\n",
       "      <td>0</td>\n",
       "      <td>0</td>\n",
       "      <td>0</td>\n",
       "    </tr>\n",
       "    <tr>\n",
       "      <th>3</th>\n",
       "      <td>50000</td>\n",
       "      <td>37</td>\n",
       "      <td>0</td>\n",
       "      <td>0</td>\n",
       "      <td>0</td>\n",
       "      <td>0</td>\n",
       "      <td>0</td>\n",
       "      <td>0</td>\n",
       "      <td>46990</td>\n",
       "      <td>48233</td>\n",
       "      <td>...</td>\n",
       "      <td>1200</td>\n",
       "      <td>1100</td>\n",
       "      <td>1069</td>\n",
       "      <td>1000</td>\n",
       "      <td>0</td>\n",
       "      <td>0</td>\n",
       "      <td>1</td>\n",
       "      <td>0</td>\n",
       "      <td>0</td>\n",
       "      <td>1</td>\n",
       "    </tr>\n",
       "    <tr>\n",
       "      <th>4</th>\n",
       "      <td>50000</td>\n",
       "      <td>57</td>\n",
       "      <td>0</td>\n",
       "      <td>0</td>\n",
       "      <td>0</td>\n",
       "      <td>0</td>\n",
       "      <td>0</td>\n",
       "      <td>0</td>\n",
       "      <td>8617</td>\n",
       "      <td>5670</td>\n",
       "      <td>...</td>\n",
       "      <td>10000</td>\n",
       "      <td>9000</td>\n",
       "      <td>689</td>\n",
       "      <td>679</td>\n",
       "      <td>0</td>\n",
       "      <td>0</td>\n",
       "      <td>1</td>\n",
       "      <td>0</td>\n",
       "      <td>1</td>\n",
       "      <td>1</td>\n",
       "    </tr>\n",
       "  </tbody>\n",
       "</table>\n",
       "<p>5 rows × 26 columns</p>\n",
       "</div>"
      ],
      "text/plain": [
       "   limit_bal  age  pay_1  pay_2  pay_3  pay_4  pay_5  pay_6  bill_amt1  \\\n",
       "0      20000   24      2      2      0      0      0      0       3913   \n",
       "1     120000   26      0      2      0      0      0      2       2682   \n",
       "2      90000   34      0      0      0      0      0      0      29239   \n",
       "3      50000   37      0      0      0      0      0      0      46990   \n",
       "4      50000   57      0      0      0      0      0      0       8617   \n",
       "\n",
       "   bill_amt2   ...     pay_amt3  pay_amt4  pay_amt5  pay_amt6  default  \\\n",
       "0       3102   ...            0         0         0         0        1   \n",
       "1       1725   ...         1000      1000         0      2000        1   \n",
       "2      14027   ...         1000      1000      1000      5000        0   \n",
       "3      48233   ...         1200      1100      1069      1000        0   \n",
       "4       5670   ...        10000      9000       689       679        0   \n",
       "\n",
       "   grad_school  university  high_school  male  married  \n",
       "0            0           1            0     0        1  \n",
       "1            0           1            0     0        0  \n",
       "2            0           1            0     0        0  \n",
       "3            0           1            0     0        1  \n",
       "4            0           1            0     1        1  \n",
       "\n",
       "[5 rows x 26 columns]"
      ]
     },
     "execution_count": 73,
     "metadata": {},
     "output_type": "execute_result"
    }
   ],
   "source": [
    "# Visualize the transformed dataset\n",
    "credit_default.head()"
   ]
  },
  {
   "cell_type": "code",
   "execution_count": 74,
   "metadata": {},
   "outputs": [],
   "source": [
    "credit_default.to_csv('cleaned_cerditcard.csv', sep = ',')"
   ]
  },
  {
   "cell_type": "code",
   "execution_count": 40,
   "metadata": {},
   "outputs": [],
   "source": [
    "aa=pd.read_json('cleaned_creditcard.json')\n",
    "aa.head().to_html('cleaned_creditcard.html')"
   ]
  },
  {
   "cell_type": "code",
   "execution_count": null,
   "metadata": {},
   "outputs": [],
   "source": []
  },
  {
   "cell_type": "code",
   "execution_count": null,
   "metadata": {},
   "outputs": [],
   "source": []
  },
  {
   "cell_type": "markdown",
   "metadata": {},
   "source": [
    "# Some visualization\n"
   ]
  },
  {
   "cell_type": "code",
   "execution_count": 75,
   "metadata": {},
   "outputs": [],
   "source": [
    "# import regex\n",
    "import re"
   ]
  },
  {
   "cell_type": "code",
   "execution_count": 76,
   "metadata": {},
   "outputs": [
    {
     "data": {
      "image/png": "[encoded data removed]",
      "text/plain": [
       "<Figure size 1080x360 with 6 Axes>"
      ]
     },
     "metadata": {},
     "output_type": "display_data"
    }
   ],
   "source": [
    "pattern = re.compile(\"^pay_[0-9]+$\")\n",
    "payment_status = [ x for x in credit_default.columns if (pattern.match(x))]\n",
    "\n",
    "fig, ax = plt.subplots(2,3)\n",
    "fig.set_size_inches(15,5)\n",
    "fig.suptitle('Distribution of dalays in the past 6 months')\n",
    "\n",
    "for i in range(len(payment_status)):\n",
    "    row,col = int(i/3), i%3\n",
    "\n",
    "    d  = credit_default[payment_status[i]].value_counts()\n",
    "    ax[row,col].bar(d.index, d, align='center', color='r')\n",
    "    ax[row,col].set_title(payment_status[i])\n",
    "\n",
    "plt.tight_layout(pad=3.0, w_pad=0.5, h_pad=1.0)\n",
    "plt.show()"
   ]
  },
  {
   "cell_type": "code",
   "execution_count": 77,
   "metadata": {},
   "outputs": [
    {
     "data": {
      "application/javascript": [
       "/* Put everything inside the global mpl namespace */\n",
       "window.mpl = {};\n",
       "\n",
       "\n",
       "mpl.get_websocket_type = function() {\n",
       "    if (typeof(WebSocket) !== 'undefined') {\n",
       "        return WebSocket;\n",
       "    } else if (typeof(MozWebSocket) !== 'undefined') {\n",
       "        return MozWebSocket;\n",
       "    } else {\n",
       "        alert('Your browser does not have WebSocket support.' +\n",
       "              'Please try Chrome, Safari or Firefox ≥ 6. ' +\n",
       "              'Firefox 4 and 5 are also supported but you ' +\n",
       "              'have to enable WebSockets in about:config.');\n",
       "    };\n",
       "}\n",
       "\n",
       "mpl.figure = function(figure_id, websocket, ondownload, parent_element) {\n",
       "    this.id = figure_id;\n",
       "\n",
       "    this.ws = websocket;\n",
       "\n",
       "    this.supports_binary = (this.ws.binaryType != undefined);\n",
       "\n",
       "    if (!this.supports_binary) {\n",
       "        var warnings = document.getElementById(\"mpl-warnings\");\n",
       "        if (warnings) {\n",
       "            warnings.style.display = 'block';\n",
       "            warnings.textContent = (\n",
       "                \"This browser does not support binary websocket messages. \" +\n",
       "                    \"Performance may be slow.\");\n",
       "        }\n",
       "    }\n",
       "\n",
       "    this.imageObj = new Image();\n",
       "\n",
       "    this.context = undefined;\n",
       "    this.message = undefined;\n",
       "    this.canvas = undefined;\n",
       "    this.rubberband_canvas = undefined;\n",
       "    this.rubberband_context = undefined;\n",
       "    this.format_dropdown = undefined;\n",
       "\n",
       "    this.image_mode = 'full';\n",
       "\n",
       "    this.root = $('<div/>');\n",
       "    this._root_extra_style(this.root)\n",
       "    this.root.attr('style', 'display: inline-block');\n",
       "\n",
       "    $(parent_element).append(this.root);\n",
       "\n",
       "    this._init_header(this);\n",
       "    this._init_canvas(this);\n",
       "    this._init_toolbar(this);\n",
       "\n",
       "    var fig = this;\n",
       "\n",
       "    this.waiting = false;\n",
       "\n",
       "    this.ws.onopen =  function () {\n",
       "            fig.send_message(\"supports_binary\", {value: fig.supports_binary});\n",
       "            fig.send_message(\"send_image_mode\", {});\n",
       "            if (mpl.ratio != 1) {\n",
       "                fig.send_message(\"set_dpi_ratio\", {'dpi_ratio': mpl.ratio});\n",
       "            }\n",
       "            fig.send_message(\"refresh\", {});\n",
       "        }\n",
       "\n",
       "    this.imageObj.onload = function() {\n",
       "            if (fig.image_mode == 'full') {\n",
       "                // Full images could contain transparency (where diff images\n",
       "                // almost always do), so we need to clear the canvas so that\n",
       "                // there is no ghosting.\n",
       "                fig.context.clearRect(0, 0, fig.canvas.width, fig.canvas.height);\n",
       "            }\n",
       "            fig.context.drawImage(fig.imageObj, 0, 0);\n",
       "        };\n",
       "\n",
       "    this.imageObj.onunload = function() {\n",
       "        fig.ws.close();\n",
       "    }\n",
       "\n",
       "    this.ws.onmessage = this._make_on_message_function(this);\n",
       "\n",
       "    this.ondownload = ondownload;\n",
       "}\n",
       "\n",
       "mpl.figure.prototype._init_header = function() {\n",
       "    var titlebar = $(\n",
       "        '<div class=\"ui-dialog-titlebar ui-widget-header ui-corner-all ' +\n",
       "        'ui-helper-clearfix\"/>');\n",
       "    var titletext = $(\n",
       "        '<div class=\"ui-dialog-title\" style=\"width: 100%; ' +\n",
       "        'text-align: center; padding: 3px;\"/>');\n",
       "    titlebar.append(titletext)\n",
       "    this.root.append(titlebar);\n",
       "    this.header = titletext[0];\n",
       "}\n",
       "\n",
       "\n",
       "\n",
       "mpl.figure.prototype._canvas_extra_style = function(canvas_div) {\n",
       "\n",
       "}\n",
       "\n",
       "\n",
       "mpl.figure.prototype._root_extra_style = function(canvas_div) {\n",
       "\n",
       "}\n",
       "\n",
       "mpl.figure.prototype._init_canvas = function() {\n",
       "    var fig = this;\n",
       "\n",
       "    var canvas_div = $('<div/>');\n",
       "\n",
       "    canvas_div.attr('style', 'position: relative; clear: both; outline: 0');\n",
       "\n",
       "    function canvas_keyboard_event(event) {\n",
       "        return fig.key_event(event, event['data']);\n",
       "    }\n",
       "\n",
       "    canvas_div.keydown('key_press', canvas_keyboard_event);\n",
       "    canvas_div.keyup('key_release', canvas_keyboard_event);\n",
       "    this.canvas_div = canvas_div\n",
       "    this._canvas_extra_style(canvas_div)\n",
       "    this.root.append(canvas_div);\n",
       "\n",
       "    var canvas = $('<canvas/>');\n",
       "    canvas.addClass('mpl-canvas');\n",
       "    canvas.attr('style', \"left: 0; top: 0; z-index: 0; outline: 0\")\n",
       "\n",
       "    this.canvas = canvas[0];\n",
       "    this.context = canvas[0].getContext(\"2d\");\n",
       "\n",
       "    var backingStore = this.context.backingStorePixelRatio ||\n",
       "\tthis.context.webkitBackingStorePixelRatio ||\n",
       "\tthis.context.mozBackingStorePixelRatio ||\n",
       "\tthis.context.msBackingStorePixelRatio ||\n",
       "\tthis.context.oBackingStorePixelRatio ||\n",
       "\tthis.context.backingStorePixelRatio || 1;\n",
       "\n",
       "    mpl.ratio = (window.devicePixelRatio || 1) / backingStore;\n",
       "\n",
       "    var rubberband = $('<canvas/>');\n",
       "    rubberband.attr('style', \"position: absolute; left: 0; top: 0; z-index: 1;\")\n",
       "\n",
       "    var pass_mouse_events = true;\n",
       "\n",
       "    canvas_div.resizable({\n",
       "        start: function(event, ui) {\n",
       "            pass_mouse_events = false;\n",
       "        },\n",
       "        resize: function(event, ui) {\n",
       "            fig.request_resize(ui.size.width, ui.size.height);\n",
       "        },\n",
       "        stop: function(event, ui) {\n",
       "            pass_mouse_events = true;\n",
       "            fig.request_resize(ui.size.width, ui.size.height);\n",
       "        },\n",
       "    });\n",
       "\n",
       "    function mouse_event_fn(event) {\n",
       "        if (pass_mouse_events)\n",
       "            return fig.mouse_event(event, event['data']);\n",
       "    }\n",
       "\n",
       "    rubberband.mousedown('button_press', mouse_event_fn);\n",
       "    rubberband.mouseup('button_release', mouse_event_fn);\n",
       "    // Throttle sequential mouse events to 1 every 20ms.\n",
       "    rubberband.mousemove('motion_notify', mouse_event_fn);\n",
       "\n",
       "    rubberband.mouseenter('figure_enter', mouse_event_fn);\n",
       "    rubberband.mouseleave('figure_leave', mouse_event_fn);\n",
       "\n",
       "    canvas_div.on(\"wheel\", function (event) {\n",
       "        event = event.originalEvent;\n",
       "        event['data'] = 'scroll'\n",
       "        if (event.deltaY < 0) {\n",
       "            event.step = 1;\n",
       "        } else {\n",
       "            event.step = -1;\n",
       "        }\n",
       "        mouse_event_fn(event);\n",
       "    });\n",
       "\n",
       "    canvas_div.append(canvas);\n",
       "    canvas_div.append(rubberband);\n",
       "\n",
       "    this.rubberband = rubberband;\n",
       "    this.rubberband_canvas = rubberband[0];\n",
       "    this.rubberband_context = rubberband[0].getContext(\"2d\");\n",
       "    this.rubberband_context.strokeStyle = \"#000000\";\n",
       "\n",
       "    this._resize_canvas = function(width, height) {\n",
       "        // Keep the size of the canvas, canvas container, and rubber band\n",
       "        // canvas in synch.\n",
       "        canvas_div.css('width', width)\n",
       "        canvas_div.css('height', height)\n",
       "\n",
       "        canvas.attr('width', width * mpl.ratio);\n",
       "        canvas.attr('height', height * mpl.ratio);\n",
       "        canvas.attr('style', 'width: ' + width + 'px; height: ' + height + 'px;');\n",
       "\n",
       "        rubberband.attr('width', width);\n",
       "        rubberband.attr('height', height);\n",
       "    }\n",
       "\n",
       "    // Set the figure to an initial 600x600px, this will subsequently be updated\n",
       "    // upon first draw.\n",
       "    this._resize_canvas(600, 600);\n",
       "\n",
       "    // Disable right mouse context menu.\n",
       "    $(this.rubberband_canvas).bind(\"contextmenu\",function(e){\n",
       "        return false;\n",
       "    });\n",
       "\n",
       "    function set_focus () {\n",
       "        canvas.focus();\n",
       "        canvas_div.focus();\n",
       "    }\n",
       "\n",
       "    window.setTimeout(set_focus, 100);\n",
       "}\n",
       "\n",
       "mpl.figure.prototype._init_toolbar = function() {\n",
       "    var fig = this;\n",
       "\n",
       "    var nav_element = $('<div/>')\n",
       "    nav_element.attr('style', 'width: 100%');\n",
       "    this.root.append(nav_element);\n",
       "\n",
       "    // Define a callback function for later on.\n",
       "    function toolbar_event(event) {\n",
       "        return fig.toolbar_button_onclick(event['data']);\n",
       "    }\n",
       "    function toolbar_mouse_event(event) {\n",
       "        return fig.toolbar_button_onmouseover(event['data']);\n",
       "    }\n",
       "\n",
       "    for(var toolbar_ind in mpl.toolbar_items) {\n",
       "        var name = mpl.toolbar_items[toolbar_ind][0];\n",
       "        var tooltip = mpl.toolbar_items[toolbar_ind][1];\n",
       "        var image = mpl.toolbar_items[toolbar_ind][2];\n",
       "        var method_name = mpl.toolbar_items[toolbar_ind][3];\n",
       "\n",
       "        if (!name) {\n",
       "            // put a spacer in here.\n",
       "            continue;\n",
       "        }\n",
       "        var button = $('<button/>');\n",
       "        button.addClass('ui-button ui-widget ui-state-default ui-corner-all ' +\n",
       "                        'ui-button-icon-only');\n",
       "        button.attr('role', 'button');\n",
       "        button.attr('aria-disabled', 'false');\n",
       "        button.click(method_name, toolbar_event);\n",
       "        button.mouseover(tooltip, toolbar_mouse_event);\n",
       "\n",
       "        var icon_img = $('<span/>');\n",
       "        icon_img.addClass('ui-button-icon-primary ui-icon');\n",
       "        icon_img.addClass(image);\n",
       "        icon_img.addClass('ui-corner-all');\n",
       "\n",
       "        var tooltip_span = $('<span/>');\n",
       "        tooltip_span.addClass('ui-button-text');\n",
       "        tooltip_span.html(tooltip);\n",
       "\n",
       "        button.append(icon_img);\n",
       "        button.append(tooltip_span);\n",
       "\n",
       "        nav_element.append(button);\n",
       "    }\n",
       "\n",
       "    var fmt_picker_span = $('<span/>');\n",
       "\n",
       "    var fmt_picker = $('<select/>');\n",
       "    fmt_picker.addClass('mpl-toolbar-option ui-widget ui-widget-content');\n",
       "    fmt_picker_span.append(fmt_picker);\n",
       "    nav_element.append(fmt_picker_span);\n",
       "    this.format_dropdown = fmt_picker[0];\n",
       "\n",
       "    for (var ind in mpl.extensions) {\n",
       "        var fmt = mpl.extensions[ind];\n",
       "        var option = $(\n",
       "            '<option/>', {selected: fmt === mpl.default_extension}).html(fmt);\n",
       "        fmt_picker.append(option)\n",
       "    }\n",
       "\n",
       "    // Add hover states to the ui-buttons\n",
       "    $( \".ui-button\" ).hover(\n",
       "        function() { $(this).addClass(\"ui-state-hover\");},\n",
       "        function() { $(this).removeClass(\"ui-state-hover\");}\n",
       "    );\n",
       "\n",
       "    var status_bar = $('<span class=\"mpl-message\"/>');\n",
       "    nav_element.append(status_bar);\n",
       "    this.message = status_bar[0];\n",
       "}\n",
       "\n",
       "mpl.figure.prototype.request_resize = function(x_pixels, y_pixels) {\n",
       "    // Request matplotlib to resize the figure. Matplotlib will then trigger a resize in the client,\n",
       "    // which will in turn request a refresh of the image.\n",
       "    this.send_message('resize', {'width': x_pixels, 'height': y_pixels});\n",
       "}\n",
       "\n",
       "mpl.figure.prototype.send_message = function(type, properties) {\n",
       "    properties['type'] = type;\n",
       "    properties['figure_id'] = this.id;\n",
       "    this.ws.send(JSON.stringify(properties));\n",
       "}\n",
       "\n",
       "mpl.figure.prototype.send_draw_message = function() {\n",
       "    if (!this.waiting) {\n",
       "        this.waiting = true;\n",
       "        this.ws.send(JSON.stringify({type: \"draw\", figure_id: this.id}));\n",
       "    }\n",
       "}\n",
       "\n",
       "\n",
       "mpl.figure.prototype.handle_save = function(fig, msg) {\n",
       "    var format_dropdown = fig.format_dropdown;\n",
       "    var format = format_dropdown.options[format_dropdown.selectedIndex].value;\n",
       "    fig.ondownload(fig, format);\n",
       "}\n",
       "\n",
       "\n",
       "mpl.figure.prototype.handle_resize = function(fig, msg) {\n",
       "    var size = msg['size'];\n",
       "    if (size[0] != fig.canvas.width || size[1] != fig.canvas.height) {\n",
       "        fig._resize_canvas(size[0], size[1]);\n",
       "        fig.send_message(\"refresh\", {});\n",
       "    };\n",
       "}\n",
       "\n",
       "mpl.figure.prototype.handle_rubberband = function(fig, msg) {\n",
       "    var x0 = msg['x0'] / mpl.ratio;\n",
       "    var y0 = (fig.canvas.height - msg['y0']) / mpl.ratio;\n",
       "    var x1 = msg['x1'] / mpl.ratio;\n",
       "    var y1 = (fig.canvas.height - msg['y1']) / mpl.ratio;\n",
       "    x0 = Math.floor(x0) + 0.5;\n",
       "    y0 = Math.floor(y0) + 0.5;\n",
       "    x1 = Math.floor(x1) + 0.5;\n",
       "    y1 = Math.floor(y1) + 0.5;\n",
       "    var min_x = Math.min(x0, x1);\n",
       "    var min_y = Math.min(y0, y1);\n",
       "    var width = Math.abs(x1 - x0);\n",
       "    var height = Math.abs(y1 - y0);\n",
       "\n",
       "    fig.rubberband_context.clearRect(\n",
       "        0, 0, fig.canvas.width, fig.canvas.height);\n",
       "\n",
       "    fig.rubberband_context.strokeRect(min_x, min_y, width, height);\n",
       "}\n",
       "\n",
       "mpl.figure.prototype.handle_figure_label = function(fig, msg) {\n",
       "    // Updates the figure title.\n",
       "    fig.header.textContent = msg['label'];\n",
       "}\n",
       "\n",
       "mpl.figure.prototype.handle_cursor = function(fig, msg) {\n",
       "    var cursor = msg['cursor'];\n",
       "    switch(cursor)\n",
       "    {\n",
       "    case 0:\n",
       "        cursor = 'pointer';\n",
       "        break;\n",
       "    case 1:\n",
       "        cursor = 'default';\n",
       "        break;\n",
       "    case 2:\n",
       "        cursor = 'crosshair';\n",
       "        break;\n",
       "    case 3:\n",
       "        cursor = 'move';\n",
       "        break;\n",
       "    }\n",
       "    fig.rubberband_canvas.style.cursor = cursor;\n",
       "}\n",
       "\n",
       "mpl.figure.prototype.handle_message = function(fig, msg) {\n",
       "    fig.message.textContent = msg['message'];\n",
       "}\n",
       "\n",
       "mpl.figure.prototype.handle_draw = function(fig, msg) {\n",
       "    // Request the server to send over a new figure.\n",
       "    fig.send_draw_message();\n",
       "}\n",
       "\n",
       "mpl.figure.prototype.handle_image_mode = function(fig, msg) {\n",
       "    fig.image_mode = msg['mode'];\n",
       "}\n",
       "\n",
       "mpl.figure.prototype.updated_canvas_event = function() {\n",
       "    // Called whenever the canvas gets updated.\n",
       "    this.send_message(\"ack\", {});\n",
       "}\n",
       "\n",
       "// A function to construct a web socket function for onmessage handling.\n",
       "// Called in the figure constructor.\n",
       "mpl.figure.prototype._make_on_message_function = function(fig) {\n",
       "    return function socket_on_message(evt) {\n",
       "        if (evt.data instanceof Blob) {\n",
       "            /* FIXME: We get \"Resource interpreted as Image but\n",
       "             * transferred with MIME type text/plain:\" errors on\n",
       "             * Chrome.  But how to set the MIME type?  It doesn't seem\n",
       "             * to be part of the websocket stream */\n",
       "            evt.data.type = \"image/png\";\n",
       "\n",
       "            /* Free the memory for the previous frames */\n",
       "            if (fig.imageObj.src) {\n",
       "                (window.URL || window.webkitURL).revokeObjectURL(\n",
       "                    fig.imageObj.src);\n",
       "            }\n",
       "\n",
       "            fig.imageObj.src = (window.URL || window.webkitURL).createObjectURL(\n",
       "                evt.data);\n",
       "            fig.updated_canvas_event();\n",
       "            fig.waiting = false;\n",
       "            return;\n",
       "        }\n",
       "        else if (typeof evt.data === 'string' && evt.data.slice(0, 21) == \"data:image/png;base64\") {\n",
       "            fig.imageObj.src = evt.data;\n",
       "            fig.updated_canvas_event();\n",
       "            fig.waiting = false;\n",
       "            return;\n",
       "        }\n",
       "\n",
       "        var msg = JSON.parse(evt.data);\n",
       "        var msg_type = msg['type'];\n",
       "\n",
       "        // Call the  \"handle_{type}\" callback, which takes\n",
       "        // the figure and JSON message as its only arguments.\n",
       "        try {\n",
       "            var callback = fig[\"handle_\" + msg_type];\n",
       "        } catch (e) {\n",
       "            console.log(\"No handler for the '\" + msg_type + \"' message type: \", msg);\n",
       "            return;\n",
       "        }\n",
       "\n",
       "        if (callback) {\n",
       "            try {\n",
       "                // console.log(\"Handling '\" + msg_type + \"' message: \", msg);\n",
       "                callback(fig, msg);\n",
       "            } catch (e) {\n",
       "                console.log(\"Exception inside the 'handler_\" + msg_type + \"' callback:\", e, e.stack, msg);\n",
       "            }\n",
       "        }\n",
       "    };\n",
       "}\n",
       "\n",
       "// from http://stackoverflow.com/questions/1114465/getting-mouse-location-in-canvas\n",
       "mpl.findpos = function(e) {\n",
       "    //this section is from http://www.quirksmode.org/js/events_properties.html\n",
       "    var targ;\n",
       "    if (!e)\n",
       "        e = window.event;\n",
       "    if (e.target)\n",
       "        targ = e.target;\n",
       "    else if (e.srcElement)\n",
       "        targ = e.srcElement;\n",
       "    if (targ.nodeType == 3) // defeat Safari bug\n",
       "        targ = targ.parentNode;\n",
       "\n",
       "    // jQuery normalizes the pageX and pageY\n",
       "    // pageX,Y are the mouse positions relative to the document\n",
       "    // offset() returns the position of the element relative to the document\n",
       "    var x = e.pageX - $(targ).offset().left;\n",
       "    var y = e.pageY - $(targ).offset().top;\n",
       "\n",
       "    return {\"x\": x, \"y\": y};\n",
       "};\n",
       "\n",
       "/*\n",
       " * return a copy of an object with only non-object keys\n",
       " * we need this to avoid circular references\n",
       " * http://stackoverflow.com/a/24161582/3208463\n",
       " */\n",
       "function simpleKeys (original) {\n",
       "  return Object.keys(original).reduce(function (obj, key) {\n",
       "    if (typeof original[key] !== 'object')\n",
       "        obj[key] = original[key]\n",
       "    return obj;\n",
       "  }, {});\n",
       "}\n",
       "\n",
       "mpl.figure.prototype.mouse_event = function(event, name) {\n",
       "    var canvas_pos = mpl.findpos(event)\n",
       "\n",
       "    if (name === 'button_press')\n",
       "    {\n",
       "        this.canvas.focus();\n",
       "        this.canvas_div.focus();\n",
       "    }\n",
       "\n",
       "    var x = canvas_pos.x * mpl.ratio;\n",
       "    var y = canvas_pos.y * mpl.ratio;\n",
       "\n",
       "    this.send_message(name, {x: x, y: y, button: event.button,\n",
       "                             step: event.step,\n",
       "                             guiEvent: simpleKeys(event)});\n",
       "\n",
       "    /* This prevents the web browser from automatically changing to\n",
       "     * the text insertion cursor when the button is pressed.  We want\n",
       "     * to control all of the cursor setting manually through the\n",
       "     * 'cursor' event from matplotlib */\n",
       "    event.preventDefault();\n",
       "    return false;\n",
       "}\n",
       "\n",
       "mpl.figure.prototype._key_event_extra = function(event, name) {\n",
       "    // Handle any extra behaviour associated with a key event\n",
       "}\n",
       "\n",
       "mpl.figure.prototype.key_event = function(event, name) {\n",
       "\n",
       "    // Prevent repeat events\n",
       "    if (name == 'key_press')\n",
       "    {\n",
       "        if (event.which === this._key)\n",
       "            return;\n",
       "        else\n",
       "            this._key = event.which;\n",
       "    }\n",
       "    if (name == 'key_release')\n",
       "        this._key = null;\n",
       "\n",
       "    var value = '';\n",
       "    if (event.ctrlKey && event.which != 17)\n",
       "        value += \"ctrl+\";\n",
       "    if (event.altKey && event.which != 18)\n",
       "        value += \"alt+\";\n",
       "    if (event.shiftKey && event.which != 16)\n",
       "        value += \"shift+\";\n",
       "\n",
       "    value += 'k';\n",
       "    value += event.which.toString();\n",
       "\n",
       "    this._key_event_extra(event, name);\n",
       "\n",
       "    this.send_message(name, {key: value,\n",
       "                             guiEvent: simpleKeys(event)});\n",
       "    return false;\n",
       "}\n",
       "\n",
       "mpl.figure.prototype.toolbar_button_onclick = function(name) {\n",
       "    if (name == 'download') {\n",
       "        this.handle_save(this, null);\n",
       "    } else {\n",
       "        this.send_message(\"toolbar_button\", {name: name});\n",
       "    }\n",
       "};\n",
       "\n",
       "mpl.figure.prototype.toolbar_button_onmouseover = function(tooltip) {\n",
       "    this.message.textContent = tooltip;\n",
       "};\n",
       "mpl.toolbar_items = [[\"Home\", \"Reset original view\", \"fa fa-home icon-home\", \"home\"], [\"Back\", \"Back to  previous view\", \"fa fa-arrow-left icon-arrow-left\", \"back\"], [\"Forward\", \"Forward to next view\", \"fa fa-arrow-right icon-arrow-right\", \"forward\"], [\"\", \"\", \"\", \"\"], [\"Pan\", \"Pan axes with left mouse, zoom with right\", \"fa fa-arrows icon-move\", \"pan\"], [\"Zoom\", \"Zoom to rectangle\", \"fa fa-square-o icon-check-empty\", \"zoom\"], [\"\", \"\", \"\", \"\"], [\"Download\", \"Download plot\", \"fa fa-floppy-o icon-save\", \"download\"]];\n",
       "\n",
       "mpl.extensions = [\"eps\", \"jpeg\", \"pdf\", \"png\", \"ps\", \"raw\", \"svg\", \"tif\"];\n",
       "\n",
       "mpl.default_extension = \"png\";var comm_websocket_adapter = function(comm) {\n",
       "    // Create a \"websocket\"-like object which calls the given IPython comm\n",
       "    // object with the appropriate methods. Currently this is a non binary\n",
       "    // socket, so there is still some room for performance tuning.\n",
       "    var ws = {};\n",
       "\n",
       "    ws.close = function() {\n",
       "        comm.close()\n",
       "    };\n",
       "    ws.send = function(m) {\n",
       "        //console.log('sending', m);\n",
       "        comm.send(m);\n",
       "    };\n",
       "    // Register the callback with on_msg.\n",
       "    comm.on_msg(function(msg) {\n",
       "        //console.log('receiving', msg['content']['data'], msg);\n",
       "        // Pass the mpl event to the overridden (by mpl) onmessage function.\n",
       "        ws.onmessage(msg['content']['data'])\n",
       "    });\n",
       "    return ws;\n",
       "}\n",
       "\n",
       "mpl.mpl_figure_comm = function(comm, msg) {\n",
       "    // This is the function which gets called when the mpl process\n",
       "    // starts-up an IPython Comm through the \"matplotlib\" channel.\n",
       "\n",
       "    var id = msg.content.data.id;\n",
       "    // Get hold of the div created by the display call when the Comm\n",
       "    // socket was opened in Python.\n",
       "    var element = $(\"#\" + id);\n",
       "    var ws_proxy = comm_websocket_adapter(comm)\n",
       "\n",
       "    function ondownload(figure, format) {\n",
       "        window.open(figure.imageObj.src);\n",
       "    }\n",
       "\n",
       "    var fig = new mpl.figure(id, ws_proxy,\n",
       "                           ondownload,\n",
       "                           element.get(0));\n",
       "\n",
       "    // Call onopen now - mpl needs it, as it is assuming we've passed it a real\n",
       "    // web socket which is closed, not our websocket->open comm proxy.\n",
       "    ws_proxy.onopen();\n",
       "\n",
       "    fig.parent_element = element.get(0);\n",
       "    fig.cell_info = mpl.find_output_cell(\"<div id='\" + id + \"'></div>\");\n",
       "    if (!fig.cell_info) {\n",
       "        console.error(\"Failed to find cell for figure\", id, fig);\n",
       "        return;\n",
       "    }\n",
       "\n",
       "    var output_index = fig.cell_info[2]\n",
       "    var cell = fig.cell_info[0];\n",
       "\n",
       "};\n",
       "\n",
       "mpl.figure.prototype.handle_close = function(fig, msg) {\n",
       "    var width = fig.canvas.width/mpl.ratio\n",
       "    fig.root.unbind('remove')\n",
       "\n",
       "    // Update the output cell to use the data from the current canvas.\n",
       "    fig.push_to_output();\n",
       "    var dataURL = fig.canvas.toDataURL();\n",
       "    // Re-enable the keyboard manager in IPython - without this line, in FF,\n",
       "    // the notebook keyboard shortcuts fail.\n",
       "    IPython.keyboard_manager.enable()\n",
       "    $(fig.parent_element).html('<img src=\"' + dataURL + '\" width=\"' + width + '\">');\n",
       "    fig.close_ws(fig, msg);\n",
       "}\n",
       "\n",
       "mpl.figure.prototype.close_ws = function(fig, msg){\n",
       "    fig.send_message('closing', msg);\n",
       "    // fig.ws.close()\n",
       "}\n",
       "\n",
       "mpl.figure.prototype.push_to_output = function(remove_interactive) {\n",
       "    // Turn the data on the canvas into data in the output cell.\n",
       "    var width = this.canvas.width/mpl.ratio\n",
       "    var dataURL = this.canvas.toDataURL();\n",
       "    this.cell_info[1]['text/html'] = '<img src=\"' + dataURL + '\" width=\"' + width + '\">';\n",
       "}\n",
       "\n",
       "mpl.figure.prototype.updated_canvas_event = function() {\n",
       "    // Tell IPython that the notebook contents must change.\n",
       "    IPython.notebook.set_dirty(true);\n",
       "    this.send_message(\"ack\", {});\n",
       "    var fig = this;\n",
       "    // Wait a second, then push the new image to the DOM so\n",
       "    // that it is saved nicely (might be nice to debounce this).\n",
       "    setTimeout(function () { fig.push_to_output() }, 1000);\n",
       "}\n",
       "\n",
       "mpl.figure.prototype._init_toolbar = function() {\n",
       "    var fig = this;\n",
       "\n",
       "    var nav_element = $('<div/>')\n",
       "    nav_element.attr('style', 'width: 100%');\n",
       "    this.root.append(nav_element);\n",
       "\n",
       "    // Define a callback function for later on.\n",
       "    function toolbar_event(event) {\n",
       "        return fig.toolbar_button_onclick(event['data']);\n",
       "    }\n",
       "    function toolbar_mouse_event(event) {\n",
       "        return fig.toolbar_button_onmouseover(event['data']);\n",
       "    }\n",
       "\n",
       "    for(var toolbar_ind in mpl.toolbar_items){\n",
       "        var name = mpl.toolbar_items[toolbar_ind][0];\n",
       "        var tooltip = mpl.toolbar_items[toolbar_ind][1];\n",
       "        var image = mpl.toolbar_items[toolbar_ind][2];\n",
       "        var method_name = mpl.toolbar_items[toolbar_ind][3];\n",
       "\n",
       "        if (!name) { continue; };\n",
       "\n",
       "        var button = $('<button class=\"btn btn-default\" href=\"#\" title=\"' + name + '\"><i class=\"fa ' + image + ' fa-lg\"></i></button>');\n",
       "        button.click(method_name, toolbar_event);\n",
       "        button.mouseover(tooltip, toolbar_mouse_event);\n",
       "        nav_element.append(button);\n",
       "    }\n",
       "\n",
       "    // Add the status bar.\n",
       "    var status_bar = $('<span class=\"mpl-message\" style=\"text-align:right; float: right;\"/>');\n",
       "    nav_element.append(status_bar);\n",
       "    this.message = status_bar[0];\n",
       "\n",
       "    // Add the close button to the window.\n",
       "    var buttongrp = $('<div class=\"btn-group inline pull-right\"></div>');\n",
       "    var button = $('<button class=\"btn btn-mini btn-primary\" href=\"#\" title=\"Stop Interaction\"><i class=\"fa fa-power-off icon-remove icon-large\"></i></button>');\n",
       "    button.click(function (evt) { fig.handle_close(fig, {}); } );\n",
       "    button.mouseover('Stop Interaction', toolbar_mouse_event);\n",
       "    buttongrp.append(button);\n",
       "    var titlebar = this.root.find($('.ui-dialog-titlebar'));\n",
       "    titlebar.prepend(buttongrp);\n",
       "}\n",
       "\n",
       "mpl.figure.prototype._root_extra_style = function(el){\n",
       "    var fig = this\n",
       "    el.on(\"remove\", function(){\n",
       "\tfig.close_ws(fig, {});\n",
       "    });\n",
       "}\n",
       "\n",
       "mpl.figure.prototype._canvas_extra_style = function(el){\n",
       "    // this is important to make the div 'focusable\n",
       "    el.attr('tabindex', 0)\n",
       "    // reach out to IPython and tell the keyboard manager to turn it's self\n",
       "    // off when our div gets focus\n",
       "\n",
       "    // location in version 3\n",
       "    if (IPython.notebook.keyboard_manager) {\n",
       "        IPython.notebook.keyboard_manager.register_events(el);\n",
       "    }\n",
       "    else {\n",
       "        // location in version 2\n",
       "        IPython.keyboard_manager.register_events(el);\n",
       "    }\n",
       "\n",
       "}\n",
       "\n",
       "mpl.figure.prototype._key_event_extra = function(event, name) {\n",
       "    var manager = IPython.notebook.keyboard_manager;\n",
       "    if (!manager)\n",
       "        manager = IPython.keyboard_manager;\n",
       "\n",
       "    // Check for shift+enter\n",
       "    if (event.shiftKey && event.which == 13) {\n",
       "        this.canvas_div.blur();\n",
       "        event.shiftKey = false;\n",
       "        // Send a \"J\" for go to next cell\n",
       "        event.which = 74;\n",
       "        event.keyCode = 74;\n",
       "        manager.command_mode();\n",
       "        manager.handle_keydown(event);\n",
       "    }\n",
       "}\n",
       "\n",
       "mpl.figure.prototype.handle_save = function(fig, msg) {\n",
       "    fig.ondownload(fig, null);\n",
       "}\n",
       "\n",
       "\n",
       "mpl.find_output_cell = function(html_output) {\n",
       "    // Return the cell and output element which can be found *uniquely* in the notebook.\n",
       "    // Note - this is a bit hacky, but it is done because the \"notebook_saving.Notebook\"\n",
       "    // IPython event is triggered only after the cells have been serialised, which for\n",
       "    // our purposes (turning an active figure into a static one), is too late.\n",
       "    var cells = IPython.notebook.get_cells();\n",
       "    var ncells = cells.length;\n",
       "    for (var i=0; i<ncells; i++) {\n",
       "        var cell = cells[i];\n",
       "        if (cell.cell_type === 'code'){\n",
       "            for (var j=0; j<cell.output_area.outputs.length; j++) {\n",
       "                var data = cell.output_area.outputs[j];\n",
       "                if (data.data) {\n",
       "                    // IPython >= 3 moved mimebundle to data attribute of output\n",
       "                    data = data.data;\n",
       "                }\n",
       "                if (data['text/html'] == html_output) {\n",
       "                    return [cell, data, j];\n",
       "                }\n",
       "            }\n",
       "        }\n",
       "    }\n",
       "}\n",
       "\n",
       "// Register the function which deals with the matplotlib target/channel.\n",
       "// The kernel may be null if the page has been refreshed.\n",
       "if (IPython.notebook.kernel != null) {\n",
       "    IPython.notebook.kernel.comm_manager.register_target('matplotlib', mpl.mpl_figure_comm);\n",
       "}\n"
      ],
      "text/plain": [
       "<matplotlib.legend.Legend at 0x113d26208>"
      ]
     },
     "execution_count": 77,
     "metadata": {},
     "output_type": "display_data"
    },
    {
     "data": {
      "text/html": [
       "<img src=\"data:image/png;base64,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\" width=\"899.9999804930258\">"
      ],
      "text/plain": [
       "<IPython.core.display.HTML object>"
      ]
     },
     "metadata": {},
     "output_type": "display_data"
    }
   ],
   "source": [
    "# Payment status by Sex\n",
    "male = credit_default[credit_default['default']==1]['male']\n",
    "female = credit_default[credit_default['default']==0]['male']\n",
    "\n",
    "%matplotlib notebook\n",
    "fig = plt.figure(figsize = (9,5))\n",
    "plt.title(\"Payment status by Sex\")\n",
    "\n",
    "\n",
    "female.hist(color=\"green\", alpha=0.7, bins = 30, label=\"Female\")\n",
    "male.hist(color=\"red\", alpha=0.7, bins = 30, label=\"Male\" )\n",
    "plt.legend(loc=\"upper right\")\n",
    "#ax.xaxis.set_major_formatter(FuncFormatter(lambda x, _: '{:.0%}'.format(x)))\n",
    "plt.show()"
   ]
  },
  {
   "cell_type": "code",
   "execution_count": 78,
   "metadata": {},
   "outputs": [
    {
     "data": {
      "text/html": [
       "<div>\n",
       "<style scoped>\n",
       "    .dataframe tbody tr th:only-of-type {\n",
       "        vertical-align: middle;\n",
       "    }\n",
       "\n",
       "    .dataframe tbody tr th {\n",
       "        vertical-align: top;\n",
       "    }\n",
       "\n",
       "    .dataframe thead th {\n",
       "        text-align: right;\n",
       "    }\n",
       "</style>\n",
       "<table border=\"1\" class=\"dataframe\">\n",
       "  <thead>\n",
       "    <tr style=\"text-align: right;\">\n",
       "      <th></th>\n",
       "      <th>pay_amt1</th>\n",
       "      <th>pay_amt2</th>\n",
       "      <th>pay_amt3</th>\n",
       "      <th>pay_amt4</th>\n",
       "      <th>pay_amt5</th>\n",
       "      <th>pay_amt6</th>\n",
       "    </tr>\n",
       "  </thead>\n",
       "  <tbody>\n",
       "    <tr>\n",
       "      <th>count</th>\n",
       "      <td>30000.000000</td>\n",
       "      <td>3.000000e+04</td>\n",
       "      <td>30000.00000</td>\n",
       "      <td>30000.000000</td>\n",
       "      <td>30000.000000</td>\n",
       "      <td>30000.000000</td>\n",
       "    </tr>\n",
       "    <tr>\n",
       "      <th>mean</th>\n",
       "      <td>5663.580500</td>\n",
       "      <td>5.921163e+03</td>\n",
       "      <td>5225.68150</td>\n",
       "      <td>4826.076867</td>\n",
       "      <td>4799.387633</td>\n",
       "      <td>5215.502567</td>\n",
       "    </tr>\n",
       "    <tr>\n",
       "      <th>std</th>\n",
       "      <td>16563.280354</td>\n",
       "      <td>2.304087e+04</td>\n",
       "      <td>17606.96147</td>\n",
       "      <td>15666.159744</td>\n",
       "      <td>15278.305679</td>\n",
       "      <td>17777.465775</td>\n",
       "    </tr>\n",
       "    <tr>\n",
       "      <th>min</th>\n",
       "      <td>0.000000</td>\n",
       "      <td>0.000000e+00</td>\n",
       "      <td>0.00000</td>\n",
       "      <td>0.000000</td>\n",
       "      <td>0.000000</td>\n",
       "      <td>0.000000</td>\n",
       "    </tr>\n",
       "    <tr>\n",
       "      <th>25%</th>\n",
       "      <td>1000.000000</td>\n",
       "      <td>8.330000e+02</td>\n",
       "      <td>390.00000</td>\n",
       "      <td>296.000000</td>\n",
       "      <td>252.500000</td>\n",
       "      <td>117.750000</td>\n",
       "    </tr>\n",
       "    <tr>\n",
       "      <th>50%</th>\n",
       "      <td>2100.000000</td>\n",
       "      <td>2.009000e+03</td>\n",
       "      <td>1800.00000</td>\n",
       "      <td>1500.000000</td>\n",
       "      <td>1500.000000</td>\n",
       "      <td>1500.000000</td>\n",
       "    </tr>\n",
       "    <tr>\n",
       "      <th>75%</th>\n",
       "      <td>5006.000000</td>\n",
       "      <td>5.000000e+03</td>\n",
       "      <td>4505.00000</td>\n",
       "      <td>4013.250000</td>\n",
       "      <td>4031.500000</td>\n",
       "      <td>4000.000000</td>\n",
       "    </tr>\n",
       "    <tr>\n",
       "      <th>max</th>\n",
       "      <td>873552.000000</td>\n",
       "      <td>1.684259e+06</td>\n",
       "      <td>896040.00000</td>\n",
       "      <td>621000.000000</td>\n",
       "      <td>426529.000000</td>\n",
       "      <td>528666.000000</td>\n",
       "    </tr>\n",
       "  </tbody>\n",
       "</table>\n",
       "</div>"
      ],
      "text/plain": [
       "            pay_amt1      pay_amt2      pay_amt3       pay_amt4  \\\n",
       "count   30000.000000  3.000000e+04   30000.00000   30000.000000   \n",
       "mean     5663.580500  5.921163e+03    5225.68150    4826.076867   \n",
       "std     16563.280354  2.304087e+04   17606.96147   15666.159744   \n",
       "min         0.000000  0.000000e+00       0.00000       0.000000   \n",
       "25%      1000.000000  8.330000e+02     390.00000     296.000000   \n",
       "50%      2100.000000  2.009000e+03    1800.00000    1500.000000   \n",
       "75%      5006.000000  5.000000e+03    4505.00000    4013.250000   \n",
       "max    873552.000000  1.684259e+06  896040.00000  621000.000000   \n",
       "\n",
       "            pay_amt5       pay_amt6  \n",
       "count   30000.000000   30000.000000  \n",
       "mean     4799.387633    5215.502567  \n",
       "std     15278.305679   17777.465775  \n",
       "min         0.000000       0.000000  \n",
       "25%       252.500000     117.750000  \n",
       "50%      1500.000000    1500.000000  \n",
       "75%      4031.500000    4000.000000  \n",
       "max    426529.000000  528666.000000  "
      ]
     },
     "execution_count": 78,
     "metadata": {},
     "output_type": "execute_result"
    }
   ],
   "source": [
    "# pay status columns\n",
    "pattern = re.compile(\"^pay_amt[0-9]+$\")\n",
    "pay_amount_columns = [ x for x in df.columns if (pattern.match(x))]\n",
    "df[pay_amount_columns].describe()"
   ]
  },
  {
   "cell_type": "code",
   "execution_count": null,
   "metadata": {},
   "outputs": [],
   "source": []
  },
  {
   "cell_type": "code",
   "execution_count": null,
   "metadata": {},
   "outputs": [],
   "source": []
  },
  {
   "cell_type": "code",
   "execution_count": 79,
   "metadata": {
    "scrolled": true
   },
   "outputs": [
    {
     "data": {
      "text/plain": [
       "<matplotlib.axes._subplots.AxesSubplot at 0x1a1e9ad518>"
      ]
     },
     "execution_count": 79,
     "metadata": {},
     "output_type": "execute_result"
    },
    {
     "data": {
      "image/png": "[encoded data removed]",
      "text/plain": [
       "<Figure size 792x504 with 1 Axes>"
      ]
     },
     "metadata": {},
     "output_type": "display_data"
    }
   ],
   "source": [
    "# Let make pairplot using seaborn\n",
    "plt.figure(figsize=(11,7))\n",
    "sns.countplot(x='married',hue='default',data=credit_default,palette='Set1')"
   ]
  },
  {
   "cell_type": "code",
   "execution_count": null,
   "metadata": {},
   "outputs": [],
   "source": []
  },
  {
   "cell_type": "markdown",
   "metadata": {},
   "source": [
    "# Model Specification"
   ]
  },
  {
   "cell_type": "markdown",
   "metadata": {},
   "source": [
    "## Import the following for data processing"
   ]
  },
  {
   "cell_type": "code",
   "execution_count": null,
   "metadata": {},
   "outputs": [],
   "source": []
  },
  {
   "cell_type": "markdown",
   "metadata": {},
   "source": [
    "## Specify the Dependent and Independent Variables or features"
   ]
  },
  {
   "cell_type": "code",
   "execution_count": 80,
   "metadata": {},
   "outputs": [],
   "source": [
    "# Our dependent feature or target(respondent) variable will the `default` (y)\n",
    "traget_name = 'default'\n"
   ]
  },
  {
   "cell_type": "code",
   "execution_count": null,
   "metadata": {},
   "outputs": [],
   "source": []
  },
  {
   "cell_type": "code",
   "execution_count": 81,
   "metadata": {},
   "outputs": [],
   "source": [
    "# Our independent features or explantory variables (X)\n",
    "X= credit_default.drop('default', axis=1)\n"
   ]
  },
  {
   "cell_type": "code",
   "execution_count": 82,
   "metadata": {},
   "outputs": [
    {
     "data": {
      "text/html": [
       "<div>\n",
       "<style scoped>\n",
       "    .dataframe tbody tr th:only-of-type {\n",
       "        vertical-align: middle;\n",
       "    }\n",
       "\n",
       "    .dataframe tbody tr th {\n",
       "        vertical-align: top;\n",
       "    }\n",
       "\n",
       "    .dataframe thead th {\n",
       "        text-align: right;\n",
       "    }\n",
       "</style>\n",
       "<table border=\"1\" class=\"dataframe\">\n",
       "  <thead>\n",
       "    <tr style=\"text-align: right;\">\n",
       "      <th></th>\n",
       "      <th>limit_bal</th>\n",
       "      <th>age</th>\n",
       "      <th>pay_1</th>\n",
       "      <th>pay_2</th>\n",
       "      <th>pay_3</th>\n",
       "      <th>pay_4</th>\n",
       "      <th>pay_5</th>\n",
       "      <th>pay_6</th>\n",
       "      <th>bill_amt1</th>\n",
       "      <th>bill_amt2</th>\n",
       "      <th>...</th>\n",
       "      <th>pay_amt2</th>\n",
       "      <th>pay_amt3</th>\n",
       "      <th>pay_amt4</th>\n",
       "      <th>pay_amt5</th>\n",
       "      <th>pay_amt6</th>\n",
       "      <th>grad_school</th>\n",
       "      <th>university</th>\n",
       "      <th>high_school</th>\n",
       "      <th>male</th>\n",
       "      <th>married</th>\n",
       "    </tr>\n",
       "  </thead>\n",
       "  <tbody>\n",
       "    <tr>\n",
       "      <th>0</th>\n",
       "      <td>20000</td>\n",
       "      <td>24</td>\n",
       "      <td>2</td>\n",
       "      <td>2</td>\n",
       "      <td>0</td>\n",
       "      <td>0</td>\n",
       "      <td>0</td>\n",
       "      <td>0</td>\n",
       "      <td>3913</td>\n",
       "      <td>3102</td>\n",
       "      <td>...</td>\n",
       "      <td>689</td>\n",
       "      <td>0</td>\n",
       "      <td>0</td>\n",
       "      <td>0</td>\n",
       "      <td>0</td>\n",
       "      <td>0</td>\n",
       "      <td>1</td>\n",
       "      <td>0</td>\n",
       "      <td>0</td>\n",
       "      <td>1</td>\n",
       "    </tr>\n",
       "    <tr>\n",
       "      <th>1</th>\n",
       "      <td>120000</td>\n",
       "      <td>26</td>\n",
       "      <td>0</td>\n",
       "      <td>2</td>\n",
       "      <td>0</td>\n",
       "      <td>0</td>\n",
       "      <td>0</td>\n",
       "      <td>2</td>\n",
       "      <td>2682</td>\n",
       "      <td>1725</td>\n",
       "      <td>...</td>\n",
       "      <td>1000</td>\n",
       "      <td>1000</td>\n",
       "      <td>1000</td>\n",
       "      <td>0</td>\n",
       "      <td>2000</td>\n",
       "      <td>0</td>\n",
       "      <td>1</td>\n",
       "      <td>0</td>\n",
       "      <td>0</td>\n",
       "      <td>0</td>\n",
       "    </tr>\n",
       "    <tr>\n",
       "      <th>2</th>\n",
       "      <td>90000</td>\n",
       "      <td>34</td>\n",
       "      <td>0</td>\n",
       "      <td>0</td>\n",
       "      <td>0</td>\n",
       "      <td>0</td>\n",
       "      <td>0</td>\n",
       "      <td>0</td>\n",
       "      <td>29239</td>\n",
       "      <td>14027</td>\n",
       "      <td>...</td>\n",
       "      <td>1500</td>\n",
       "      <td>1000</td>\n",
       "      <td>1000</td>\n",
       "      <td>1000</td>\n",
       "      <td>5000</td>\n",
       "      <td>0</td>\n",
       "      <td>1</td>\n",
       "      <td>0</td>\n",
       "      <td>0</td>\n",
       "      <td>0</td>\n",
       "    </tr>\n",
       "    <tr>\n",
       "      <th>3</th>\n",
       "      <td>50000</td>\n",
       "      <td>37</td>\n",
       "      <td>0</td>\n",
       "      <td>0</td>\n",
       "      <td>0</td>\n",
       "      <td>0</td>\n",
       "      <td>0</td>\n",
       "      <td>0</td>\n",
       "      <td>46990</td>\n",
       "      <td>48233</td>\n",
       "      <td>...</td>\n",
       "      <td>2019</td>\n",
       "      <td>1200</td>\n",
       "      <td>1100</td>\n",
       "      <td>1069</td>\n",
       "      <td>1000</td>\n",
       "      <td>0</td>\n",
       "      <td>1</td>\n",
       "      <td>0</td>\n",
       "      <td>0</td>\n",
       "      <td>1</td>\n",
       "    </tr>\n",
       "    <tr>\n",
       "      <th>4</th>\n",
       "      <td>50000</td>\n",
       "      <td>57</td>\n",
       "      <td>0</td>\n",
       "      <td>0</td>\n",
       "      <td>0</td>\n",
       "      <td>0</td>\n",
       "      <td>0</td>\n",
       "      <td>0</td>\n",
       "      <td>8617</td>\n",
       "      <td>5670</td>\n",
       "      <td>...</td>\n",
       "      <td>36681</td>\n",
       "      <td>10000</td>\n",
       "      <td>9000</td>\n",
       "      <td>689</td>\n",
       "      <td>679</td>\n",
       "      <td>0</td>\n",
       "      <td>1</td>\n",
       "      <td>0</td>\n",
       "      <td>1</td>\n",
       "      <td>1</td>\n",
       "    </tr>\n",
       "  </tbody>\n",
       "</table>\n",
       "<p>5 rows × 25 columns</p>\n",
       "</div>"
      ],
      "text/plain": [
       "   limit_bal  age  pay_1  pay_2  pay_3  pay_4  pay_5  pay_6  bill_amt1  \\\n",
       "0      20000   24      2      2      0      0      0      0       3913   \n",
       "1     120000   26      0      2      0      0      0      2       2682   \n",
       "2      90000   34      0      0      0      0      0      0      29239   \n",
       "3      50000   37      0      0      0      0      0      0      46990   \n",
       "4      50000   57      0      0      0      0      0      0       8617   \n",
       "\n",
       "   bill_amt2   ...     pay_amt2  pay_amt3  pay_amt4  pay_amt5  pay_amt6  \\\n",
       "0       3102   ...          689         0         0         0         0   \n",
       "1       1725   ...         1000      1000      1000         0      2000   \n",
       "2      14027   ...         1500      1000      1000      1000      5000   \n",
       "3      48233   ...         2019      1200      1100      1069      1000   \n",
       "4       5670   ...        36681     10000      9000       689       679   \n",
       "\n",
       "   grad_school  university  high_school  male  married  \n",
       "0            0           1            0     0        1  \n",
       "1            0           1            0     0        0  \n",
       "2            0           1            0     0        0  \n",
       "3            0           1            0     0        1  \n",
       "4            0           1            0     1        1  \n",
       "\n",
       "[5 rows x 25 columns]"
      ]
     },
     "execution_count": 82,
     "metadata": {},
     "output_type": "execute_result"
    }
   ],
   "source": [
    "X.head()"
   ]
  },
  {
   "cell_type": "markdown",
   "metadata": {},
   "source": [
    "### Let use roubust_scaler to transform our data to fit for the analysis"
   ]
  },
  {
   "cell_type": "code",
   "execution_count": 83,
   "metadata": {},
   "outputs": [],
   "source": [
    "roubust_scaler= RobustScaler()\n",
    "X= roubust_scaler.fit_transform(X)\n",
    "y= credit_default[traget_name]\n",
    "X_train, X_test, y_train, y_test = train_test_split(X,y, test_size=0.15, random_state=123, stratify=y)\n"
   ]
  },
  {
   "cell_type": "markdown",
   "metadata": {},
   "source": [
    "## Let define a common DataFrame for our Models analysis and comparisons"
   ]
  },
  {
   "cell_type": "markdown",
   "metadata": {},
   "source": [
    "\n",
    "\n",
    "     "
   ]
  },
  {
   "cell_type": "code",
   "execution_count": 84,
   "metadata": {},
   "outputs": [],
   "source": [
    "# DataFrame for our Models Analysis\n",
    "def CMatrix(CM, labels =['non-default', 'default']):\n",
    "    df = pd.DataFrame(data=CM, index=labels, columns=labels)\n",
    "    #df.index.name='True'\n",
    "    df.columns.name=\"Prediction\"\n",
    "    df.loc[\"Total\"] = df.sum()\n",
    "    df['Total'] = df.sum(axis=1)\n",
    "    return df"
   ]
  },
  {
   "cell_type": "code",
   "execution_count": 85,
   "metadata": {},
   "outputs": [],
   "source": [
    "#Data frame for evaluation metrics for the models we are going to evaluate\n",
    "eval_metrix = pd.DataFrame(index=['accuracy', 'precision', 'recall'],\n",
    "                columns=['LogisticReg Model', 'ClassTree Model', 'RandomForest Model','NaiveBayes Model'])"
   ]
  },
  {
   "cell_type": "code",
   "execution_count": 86,
   "metadata": {},
   "outputs": [
    {
     "data": {
      "text/html": [
       "<div>\n",
       "<style scoped>\n",
       "    .dataframe tbody tr th:only-of-type {\n",
       "        vertical-align: middle;\n",
       "    }\n",
       "\n",
       "    .dataframe tbody tr th {\n",
       "        vertical-align: top;\n",
       "    }\n",
       "\n",
       "    .dataframe thead th {\n",
       "        text-align: right;\n",
       "    }\n",
       "</style>\n",
       "<table border=\"1\" class=\"dataframe\">\n",
       "  <thead>\n",
       "    <tr style=\"text-align: right;\">\n",
       "      <th></th>\n",
       "      <th>LogisticReg Model</th>\n",
       "      <th>ClassTree Model</th>\n",
       "      <th>RandomForest Model</th>\n",
       "      <th>NaiveBayes Model</th>\n",
       "    </tr>\n",
       "  </thead>\n",
       "  <tbody>\n",
       "    <tr>\n",
       "      <th>accuracy</th>\n",
       "      <td>NaN</td>\n",
       "      <td>NaN</td>\n",
       "      <td>NaN</td>\n",
       "      <td>NaN</td>\n",
       "    </tr>\n",
       "    <tr>\n",
       "      <th>precision</th>\n",
       "      <td>NaN</td>\n",
       "      <td>NaN</td>\n",
       "      <td>NaN</td>\n",
       "      <td>NaN</td>\n",
       "    </tr>\n",
       "    <tr>\n",
       "      <th>recall</th>\n",
       "      <td>NaN</td>\n",
       "      <td>NaN</td>\n",
       "      <td>NaN</td>\n",
       "      <td>NaN</td>\n",
       "    </tr>\n",
       "  </tbody>\n",
       "</table>\n",
       "</div>"
      ],
      "text/plain": [
       "          LogisticReg Model ClassTree Model RandomForest Model  \\\n",
       "accuracy                NaN             NaN                NaN   \n",
       "precision               NaN             NaN                NaN   \n",
       "recall                  NaN             NaN                NaN   \n",
       "\n",
       "          NaiveBayes Model  \n",
       "accuracy               NaN  \n",
       "precision              NaN  \n",
       "recall                 NaN  "
      ]
     },
     "execution_count": 86,
     "metadata": {},
     "output_type": "execute_result"
    }
   ],
   "source": [
    "# Let view our empty dataframe\n",
    "eval_metrix"
   ]
  },
  {
   "cell_type": "markdown",
   "metadata": {},
   "source": [
    "## 1. Logistic Regression"
   ]
  },
  {
   "cell_type": "markdown",
   "metadata": {},
   "source": [
    "### Follow the 5 main steps in Model Dev't in ML\n",
    "\n",
    "* Instanize the regression module\n",
    "* Use the dataset to train the model instance\n",
    "* Evaluate the model\n",
    "* print out Confusion Matrix(CM)\n",
    "* Predict Result using the model\n"
   ]
  },
  {
   "cell_type": "code",
   "execution_count": 87,
   "metadata": {
    "scrolled": true
   },
   "outputs": [
    {
     "name": "stderr",
     "output_type": "stream",
     "text": [
      "/anaconda3/lib/python3.6/site-packages/sklearn/linear_model/logistic.py:1228: UserWarning: 'n_jobs' > 1 does not have any effect when 'solver' is set to 'liblinear'. Got 'n_jobs' = -1.\n",
      "  \" = {}.\".format(self.n_jobs))\n"
     ]
    },
    {
     "data": {
      "text/html": [
       "<div>\n",
       "<style scoped>\n",
       "    .dataframe tbody tr th:only-of-type {\n",
       "        vertical-align: middle;\n",
       "    }\n",
       "\n",
       "    .dataframe tbody tr th {\n",
       "        vertical-align: top;\n",
       "    }\n",
       "\n",
       "    .dataframe thead th {\n",
       "        text-align: right;\n",
       "    }\n",
       "</style>\n",
       "<table border=\"1\" class=\"dataframe\">\n",
       "  <thead>\n",
       "    <tr style=\"text-align: right;\">\n",
       "      <th>Prediction</th>\n",
       "      <th>pay</th>\n",
       "      <th>default</th>\n",
       "      <th>Total</th>\n",
       "    </tr>\n",
       "  </thead>\n",
       "  <tbody>\n",
       "    <tr>\n",
       "      <th>pay</th>\n",
       "      <td>3365</td>\n",
       "      <td>140</td>\n",
       "      <td>3505</td>\n",
       "    </tr>\n",
       "    <tr>\n",
       "      <th>default</th>\n",
       "      <td>671</td>\n",
       "      <td>324</td>\n",
       "      <td>995</td>\n",
       "    </tr>\n",
       "    <tr>\n",
       "      <th>Total</th>\n",
       "      <td>4036</td>\n",
       "      <td>464</td>\n",
       "      <td>4500</td>\n",
       "    </tr>\n",
       "  </tbody>\n",
       "</table>\n",
       "</div>"
      ],
      "text/plain": [
       "Prediction   pay  default  Total\n",
       "pay         3365      140   3505\n",
       "default      671      324    995\n",
       "Total       4036      464   4500"
      ]
     },
     "execution_count": 87,
     "metadata": {},
     "output_type": "execute_result"
    }
   ],
   "source": [
    "\n",
    "# Import\n",
    "from sklearn.linear_model import LogisticRegression\n",
    "from pandas.plotting import table\n",
    "# Instance of the estimator\n",
    "logistic_regression = LogisticRegression(n_jobs=-1, random_state =15)\n",
    "# train the estimator\n",
    "logistic_regression.fit(X_train, y_train)\n",
    "\n",
    "# Evalute the model\n",
    "y_pred_test = logistic_regression.predict(X_test)\n",
    "# we conduct our evaluation using these 3 _score\n",
    "eval_metrix.loc['accuracy', 'LogisticReg Model']= accuracy_score(y_pred=y_pred_test, y_true=y_test)\n",
    "eval_metrix.loc['precision', 'LogisticReg Model']= precision_score(y_pred=y_pred_test, y_true=y_test)\n",
    "eval_metrix.loc['recall', 'LogisticReg Model']= recall_score(y_pred=y_pred_test, y_true=y_test)    \n",
    "\n",
    "# Confusion matrix for the logistic regression\n",
    "CM = confusion_matrix(y_pred=y_pred_test, y_true=y_test)\n",
    "CMatrix(CM)\n",
    "df_logistic_regression=CMatrix(CM)\n",
    "ax_logistic_regression= plt.subplot(111, frame_on=False) # no visible frame\n",
    "ax_logistic_regression.xaxis.set_visible(False)  # hide the x axis\n",
    "ax_logistic_regression.yaxis.set_visible(False)  # hide the y axis\n",
    "\n",
    "table(ax_logistic_regression, df_logistic_regression,loc='center')  # where df is your data frame\n",
    "\n",
    "df_logistic_regression.to_html('logistic_regression_CM.html')"
   ]
  },
  {
   "cell_type": "code",
   "execution_count": 88,
   "metadata": {},
   "outputs": [
    {
     "name": "stdout",
     "output_type": "stream",
     "text": [
      "             precision    recall  f1-score   support\n",
      "\n",
      "          0       0.83      0.96      0.89      3505\n",
      "          1       0.70      0.33      0.44       995\n",
      "\n",
      "avg / total       0.80      0.82      0.79      4500\n",
      "\n"
     ]
    }
   ],
   "source": [
    "print(classification_report(y_test, y_pred_test))"
   ]
  },
  {
   "cell_type": "code",
   "execution_count": 89,
   "metadata": {},
   "outputs": [
    {
     "data": {
      "text/plain": [
       "0.3256281407035176"
      ]
     },
     "execution_count": 89,
     "metadata": {},
     "output_type": "execute_result"
    }
   ],
   "source": [
    "#Recall = TP/(TP + FN) => is a true positive rate\n",
    "Recall = 324/(324+671)\n",
    "Recall"
   ]
  },
  {
   "cell_type": "code",
   "execution_count": 90,
   "metadata": {},
   "outputs": [
    {
     "data": {
      "text/plain": [
       "0.6982758620689655"
      ]
     },
     "execution_count": 90,
     "metadata": {},
     "output_type": "execute_result"
    }
   ],
   "source": [
    "#Precision = TP/(TP + FP) => is a measure of accuracy\n",
    "Precision = 324/(324+140)\n",
    "Precision"
   ]
  },
  {
   "cell_type": "code",
   "execution_count": 91,
   "metadata": {},
   "outputs": [
    {
     "data": {
      "text/plain": [
       "0.44413982179575057"
      ]
     },
     "execution_count": 91,
     "metadata": {},
     "output_type": "execute_result"
    }
   ],
   "source": [
    "# f1_score = 2*(Precision*Recall)/(Precision + Recall)\n",
    "f1_score = 2*(0.6982758620689655*0.3256281407035176)/(0.6982758620689655 + 0.3256281407035176)\n",
    "f1_score"
   ]
  },
  {
   "cell_type": "markdown",
   "metadata": {},
   "source": [
    "### Take the first row, and look the matrix.\n",
    "* For example `pay` by `pay` at Row 1 and Column 2:- shows the number of credit card holders who have been predicted by the logistic_regression model correctly as these who actually have paid their loan. \n",
    "* By the same token, `pay` by `default`, row 1 and column 3, are these credit card holders who have been predicted by logistic_regression model to be `defaulter` while they actually paid their loan."
   ]
  },
  {
   "cell_type": "markdown",
   "metadata": {},
   "source": [
    "## 2. Decision Trees"
   ]
  },
  {
   "cell_type": "markdown",
   "metadata": {},
   "source": [
    "* import the estimator object\n",
    "* Create on Instance of the estimator\n",
    "* Use the trainning data to train the estimator\n",
    "* Evalute the model\n",
    "* print out Confusion matrix using CM we have defined earlier"
   ]
  },
  {
   "cell_type": "code",
   "execution_count": 92,
   "metadata": {},
   "outputs": [
    {
     "data": {
      "text/html": [
       "<div>\n",
       "<style scoped>\n",
       "    .dataframe tbody tr th:only-of-type {\n",
       "        vertical-align: middle;\n",
       "    }\n",
       "\n",
       "    .dataframe tbody tr th {\n",
       "        vertical-align: top;\n",
       "    }\n",
       "\n",
       "    .dataframe thead th {\n",
       "        text-align: right;\n",
       "    }\n",
       "</style>\n",
       "<table border=\"1\" class=\"dataframe\">\n",
       "  <thead>\n",
       "    <tr style=\"text-align: right;\">\n",
       "      <th>Prediction/Acutal</th>\n",
       "      <th>non-default</th>\n",
       "      <th>default</th>\n",
       "      <th>Total</th>\n",
       "    </tr>\n",
       "  </thead>\n",
       "  <tbody>\n",
       "    <tr>\n",
       "      <th>non-default</th>\n",
       "      <td>3185</td>\n",
       "      <td>320</td>\n",
       "      <td>3505</td>\n",
       "    </tr>\n",
       "    <tr>\n",
       "      <th>default</th>\n",
       "      <td>634</td>\n",
       "      <td>361</td>\n",
       "      <td>995</td>\n",
       "    </tr>\n",
       "    <tr>\n",
       "      <th>Total</th>\n",
       "      <td>3819</td>\n",
       "      <td>681</td>\n",
       "      <td>4500</td>\n",
       "    </tr>\n",
       "  </tbody>\n",
       "</table>\n",
       "</div>"
      ],
      "text/plain": [
       "Prediction   pay  default  Total\n",
       "pay         3185      320   3505\n",
       "default      634      361    995\n",
       "Total       3819      681   4500"
      ]
     },
     "execution_count": 92,
     "metadata": {},
     "output_type": "execute_result"
    }
   ],
   "source": [
    "\n",
    "# Import \n",
    "from sklearn.tree import DecisionTreeClassifier\n",
    "\n",
    "# Instance of the estimator\n",
    "class_tree = DecisionTreeClassifier(min_samples_split=30, min_samples_leaf=10, random_state=10)\n",
    "\n",
    "# train the estimator\n",
    "class_tree.fit(X_train, y_train)\n",
    "\n",
    "# Evaluate the model\n",
    "y_pred_test = class_tree.predict(X_test)\n",
    "# we conduct our evaluation using these 3 _score\n",
    "eval_metrix.loc['accuracy', 'ClassTree Model']= accuracy_score(y_pred=y_pred_test, y_true=y_test)\n",
    "eval_metrix.loc['precision', 'ClassTree Model']= precision_score(y_pred=y_pred_test, y_true=y_test)\n",
    "eval_metrix.loc['recall', 'ClassTree Model']= recall_score(y_pred=y_pred_test, y_true=y_test)  \n",
    "\n",
    "# Confussion matrix\n",
    "CM = confusion_matrix(y_pred=y_pred_test, y_true=y_test)\n",
    "CMatrix(CM)  \n"
   ]
  },
  {
   "cell_type": "code",
   "execution_count": 93,
   "metadata": {},
   "outputs": [
    {
     "name": "stdout",
     "output_type": "stream",
     "text": [
      "             precision    recall  f1-score   support\n",
      "\n",
      "          0       0.83      0.91      0.87      3505\n",
      "          1       0.53      0.36      0.43       995\n",
      "\n",
      "avg / total       0.77      0.79      0.77      4500\n",
      "\n"
     ]
    }
   ],
   "source": [
    "print(classification_report(y_test, y_pred_test))"
   ]
  },
  {
   "cell_type": "code",
   "execution_count": 94,
   "metadata": {},
   "outputs": [
    {
     "data": {
      "text/plain": [
       "0.3628140703517588"
      ]
     },
     "execution_count": 94,
     "metadata": {},
     "output_type": "execute_result"
    }
   ],
   "source": [
    "#Recall = TP/(TP + FN) => is a true positive rate\n",
    "Recall = 361/(361+634)\n",
    "Recall"
   ]
  },
  {
   "cell_type": "code",
   "execution_count": 95,
   "metadata": {},
   "outputs": [
    {
     "data": {
      "text/plain": [
       "0.5301027900146843"
      ]
     },
     "execution_count": 95,
     "metadata": {},
     "output_type": "execute_result"
    }
   ],
   "source": [
    "#Precision = TP/(TP + FP) => is a measure of accuracy\n",
    "Precision = 361/(361+320)\n",
    "Precision"
   ]
  },
  {
   "cell_type": "code",
   "execution_count": 96,
   "metadata": {},
   "outputs": [
    {
     "data": {
      "text/plain": [
       "0.4307875894988067"
      ]
     },
     "execution_count": 96,
     "metadata": {},
     "output_type": "execute_result"
    }
   ],
   "source": [
    "# f1_score = 2*(Precision*Recall)/(Precision + Recall)\n",
    "f1_score = 2*(0.5301027900146843*0.3628140703517588)/(0.5301027900146843 + 0.3628140703517588)\n",
    "f1_score"
   ]
  },
  {
   "cell_type": "code",
   "execution_count": 97,
   "metadata": {},
   "outputs": [],
   "source": [
    "## Let print out our Trees"
   ]
  },
  {
   "cell_type": "code",
   "execution_count": 98,
   "metadata": {},
   "outputs": [],
   "source": [
    "independent_var = ['limit_bal', 'age', 'pay_1', 'pay_2', 'pay_3', 'pay_4', 'pay_5',\n",
    "       'pay_6', 'bill_amt1', 'bill_amt2', 'bill_amt3', 'bill_amt4',\n",
    "       'bill_amt5', 'bill_amt6', 'pay_amt1', 'pay_amt2', 'pay_amt3',\n",
    "       'pay_amt4', 'pay_amt5', 'pay_amt6', 'grad_school',\n",
    "       'university', 'high_school', 'male', 'married']"
   ]
  },
  {
   "cell_type": "code",
   "execution_count": 99,
   "metadata": {},
   "outputs": [],
   "source": [
    "import mglearn\n",
    "\n",
    "import graphviz\n",
    "from sklearn.tree import export_graphviz\n",
    "\n",
    "export_graphviz(class_tree, out_file=\"mytree.dot\", feature_names=independent_var, class_names=['yes', 'no'], impurity=False, filled=True)\n",
    "\n"
   ]
  },
  {
   "cell_type": "markdown",
   "metadata": {},
   "source": [
    "![](mytree.png)"
   ]
  },
  {
   "cell_type": "markdown",
   "metadata": {},
   "source": [
    "## 3.  Random Forest model"
   ]
  },
  {
   "cell_type": "markdown",
   "metadata": {},
   "source": [
    "* import the estimator object\n",
    "* Create on Instance of the estimator\n",
    "* Use the trainning data to train the estimator\n",
    "* Evalute the model\n",
    "* print out Confusion matrix using CM we have defined earlier"
   ]
  },
  {
   "cell_type": "code",
   "execution_count": 100,
   "metadata": {},
   "outputs": [
    {
     "data": {
      "text/html": [
       "<div>\n",
       "<style scoped>\n",
       "    .dataframe tbody tr th:only-of-type {\n",
       "        vertical-align: middle;\n",
       "    }\n",
       "\n",
       "    .dataframe tbody tr th {\n",
       "        vertical-align: top;\n",
       "    }\n",
       "\n",
       "    .dataframe thead th {\n",
       "        text-align: right;\n",
       "    }\n",
       "</style>\n",
       "<table border=\"1\" class=\"dataframe\">\n",
       "  <thead>\n",
       "    <tr style=\"text-align: right;\">\n",
       "      <th>Prediction/Acutal</th>\n",
       "      <th>non-default</th>\n",
       "      <th>default</th>\n",
       "      <th>Total</th>\n",
       "    </tr>\n",
       "  </thead>\n",
       "  <tbody>\n",
       "    <tr>\n",
       "      <th>non-default</th>\n",
       "      <td>3316</td>\n",
       "      <td>189</td>\n",
       "      <td>3505</td>\n",
       "    </tr>\n",
       "    <tr>\n",
       "      <th>default</th>\n",
       "      <td>652</td>\n",
       "      <td>343</td>\n",
       "      <td>995</td>\n",
       "    </tr>\n",
       "    <tr>\n",
       "      <th>Total</th>\n",
       "      <td>3968</td>\n",
       "      <td>532</td>\n",
       "      <td>4500</td>\n",
       "    </tr>\n",
       "  </tbody>\n",
       "</table>\n",
       "</div>"
      ],
      "text/plain": [
       "Prediction   pay  default  Total\n",
       "pay         3316      189   3505\n",
       "default      652      343    995\n",
       "Total       3968      532   4500"
      ]
     },
     "execution_count": 100,
     "metadata": {},
     "output_type": "execute_result"
    }
   ],
   "source": [
    "# Import \n",
    "from sklearn.ensemble import RandomForestClassifier\n",
    "\n",
    "# Instance of the estimator\n",
    "random_forest = RandomForestClassifier(n_estimators=20, random_state=10)\n",
    "\n",
    "# train the estimator\n",
    "random_forest.fit(X_train, y_train)\n",
    "\n",
    "# Evaluate the model\n",
    "y_pred_test = random_forest.predict(X_test)\n",
    "# we conduct our evaluation using these 3 _score\n",
    "eval_metrix.loc['accuracy', 'RandomForest Model']= accuracy_score(y_pred=y_pred_test, y_true=y_test)\n",
    "eval_metrix.loc['precision', 'RandomForest Model']= precision_score(y_pred=y_pred_test, y_true=y_test)\n",
    "eval_metrix.loc['recall', 'RandomForest Model']= recall_score(y_pred=y_pred_test, y_true=y_test)  \n",
    "\n",
    "# Confussion matrix\n",
    "CM = confusion_matrix(y_pred=y_pred_test, y_true=y_test)\n",
    "CMatrix(CM)  "
   ]
  },
  {
   "cell_type": "code",
   "execution_count": 101,
   "metadata": {},
   "outputs": [
    {
     "name": "stdout",
     "output_type": "stream",
     "text": [
      "             precision    recall  f1-score   support\n",
      "\n",
      "          0       0.84      0.95      0.89      3505\n",
      "          1       0.64      0.34      0.45       995\n",
      "\n",
      "avg / total       0.79      0.81      0.79      4500\n",
      "\n"
     ]
    }
   ],
   "source": [
    "print(classification_report(y_test, y_pred_test))"
   ]
  },
  {
   "cell_type": "code",
   "execution_count": 102,
   "metadata": {},
   "outputs": [
    {
     "data": {
      "text/plain": [
       "0.34472361809045227"
      ]
     },
     "execution_count": 102,
     "metadata": {},
     "output_type": "execute_result"
    }
   ],
   "source": [
    "#Recall = TP/(TP + FN) => is a true positive rate\n",
    "Recall = 343/(343+ 652)\n",
    "Recall"
   ]
  },
  {
   "cell_type": "code",
   "execution_count": 103,
   "metadata": {},
   "outputs": [
    {
     "data": {
      "text/plain": [
       "0.6459510357815442"
      ]
     },
     "execution_count": 103,
     "metadata": {},
     "output_type": "execute_result"
    }
   ],
   "source": [
    "#Precision = TP/(TP + FP) => is a measure of accuracy\n",
    "Precision = 343/(342+189)\n",
    "Precision"
   ]
  },
  {
   "cell_type": "code",
   "execution_count": 104,
   "metadata": {},
   "outputs": [
    {
     "data": {
      "text/plain": [
       "0.4495412844036697"
      ]
     },
     "execution_count": 104,
     "metadata": {},
     "output_type": "execute_result"
    }
   ],
   "source": [
    "# f1_score = 2*(Precision*Recall)/(Precision + Recall)\n",
    "f1_score = 2*(0.6459510357815442*0.34472361809045227)/(0.6459510357815442 + 0.34472361809045227)\n",
    "f1_score"
   ]
  },
  {
   "cell_type": "markdown",
   "metadata": {},
   "source": [
    "## 3. Naive Bayes Classifier"
   ]
  },
  {
   "cell_type": "markdown",
   "metadata": {},
   "source": [
    "* import the estimator object\n",
    "* Create on Instance of the estimator\n",
    "* Use the trainning data to train the estimator\n",
    "* Evalute the model\n",
    "* print out Confusion matrix using CM we have defined earlier"
   ]
  },
  {
   "cell_type": "code",
   "execution_count": 105,
   "metadata": {},
   "outputs": [
    {
     "data": {
      "text/html": [
       "<div>\n",
       "<style scoped>\n",
       "    .dataframe tbody tr th:only-of-type {\n",
       "        vertical-align: middle;\n",
       "    }\n",
       "\n",
       "    .dataframe tbody tr th {\n",
       "        vertical-align: top;\n",
       "    }\n",
       "\n",
       "    .dataframe thead th {\n",
       "        text-align: right;\n",
       "    }\n",
       "</style>\n",
       "<table border=\"1\" class=\"dataframe\">\n",
       "  <thead>\n",
       "    <tr style=\"text-align: right;\">\n",
       "      <th>Prediction/Acutal</th>\n",
       "      <th>non-default</th>\n",
       "      <th>default</th>\n",
       "      <th>Total</th>\n",
       "    </tr>\n",
       "  </thead>\n",
       "  <tbody>\n",
       "    <tr>\n",
       "      <th>non-default</th>\n",
       "      <td>2912</td>\n",
       "      <td>593</td>\n",
       "      <td>3505</td>\n",
       "    </tr>\n",
       "    <tr>\n",
       "      <th>default</th>\n",
       "      <td>439</td>\n",
       "      <td>556</td>\n",
       "      <td>995</td>\n",
       "    </tr>\n",
       "    <tr>\n",
       "      <th>Total</th>\n",
       "      <td>3351</td>\n",
       "      <td>1149</td>\n",
       "      <td>4500</td>\n",
       "    </tr>\n",
       "  </tbody>\n",
       "</table>\n",
       "</div>"
      ],
      "text/plain": [
       "Prediction   pay  default  Total\n",
       "pay         2912      593   3505\n",
       "default      439      556    995\n",
       "Total       3351     1149   4500"
      ]
     },
     "execution_count": 105,
     "metadata": {},
     "output_type": "execute_result"
    }
   ],
   "source": [
    "\n",
    "# Import \n",
    "from sklearn.naive_bayes import GaussianNB\n",
    "# Instance of the estimator\n",
    "NBC = GaussianNB()\n",
    "# 3.  train the estimator\n",
    "NBC.fit(X_train, y_train)\n",
    "# Evaluate the model\n",
    "y_pred_test = NBC.predict(X_test)\n",
    "eval_metrix.loc['accuracy', 'NaiveBayes Model']= accuracy_score(y_pred=y_pred_test, y_true=y_test)\n",
    "eval_metrix.loc['precision', 'NaiveBayes Model']= precision_score(y_pred=y_pred_test, y_true=y_test)\n",
    "eval_metrix.loc['recall', 'NaiveBayes Model']= recall_score(y_pred=y_pred_test, y_true=y_test)  \n",
    "# Confussion matrix\n",
    "CM = confusion_matrix(y_pred=y_pred_test, y_true=y_test)\n",
    "CMatrix(CM)  "
   ]
  },
  {
   "cell_type": "code",
   "execution_count": 106,
   "metadata": {},
   "outputs": [
    {
     "name": "stdout",
     "output_type": "stream",
     "text": [
      "             precision    recall  f1-score   support\n",
      "\n",
      "          0       0.87      0.83      0.85      3505\n",
      "          1       0.48      0.56      0.52       995\n",
      "\n",
      "avg / total       0.78      0.77      0.78      4500\n",
      "\n"
     ]
    }
   ],
   "source": [
    "print(classification_report(y_test, y_pred_test))"
   ]
  },
  {
   "cell_type": "code",
   "execution_count": 107,
   "metadata": {},
   "outputs": [
    {
     "data": {
      "text/plain": [
       "0.5587939698492462"
      ]
     },
     "execution_count": 107,
     "metadata": {},
     "output_type": "execute_result"
    }
   ],
   "source": [
    "#Recall = TP/(TP + FN) => is a true positive rate\n",
    "Recall = 556/(556+ 439)\n",
    "Recall"
   ]
  },
  {
   "cell_type": "code",
   "execution_count": 108,
   "metadata": {},
   "outputs": [
    {
     "data": {
      "text/plain": [
       "0.48389904264577893"
      ]
     },
     "execution_count": 108,
     "metadata": {},
     "output_type": "execute_result"
    }
   ],
   "source": [
    "#Precision = TP/(TP + FP) => is a measure of accuracy\n",
    "Precision = 556/(556+593)\n",
    "Precision"
   ]
  },
  {
   "cell_type": "code",
   "execution_count": 109,
   "metadata": {},
   "outputs": [
    {
     "data": {
      "text/plain": [
       "0.5186567164179104"
      ]
     },
     "execution_count": 109,
     "metadata": {},
     "output_type": "execute_result"
    }
   ],
   "source": [
    "# f1_score = 2*(Precision*Recall)/(Precision + Recall)\n",
    "f1_score = 2*(0.48389904264577893*0.5587939698492462)/(0.48389904264577893 + 0.5587939698492462)\n",
    "f1_score"
   ]
  },
  {
   "cell_type": "markdown",
   "metadata": {},
   "source": [
    "----------------------------"
   ]
  },
  {
   "cell_type": "code",
   "execution_count": 110,
   "metadata": {},
   "outputs": [
    {
     "data": {
      "text/html": [
       "<div>\n",
       "<style scoped>\n",
       "    .dataframe tbody tr th:only-of-type {\n",
       "        vertical-align: middle;\n",
       "    }\n",
       "\n",
       "    .dataframe tbody tr th {\n",
       "        vertical-align: top;\n",
       "    }\n",
       "\n",
       "    .dataframe thead th {\n",
       "        text-align: right;\n",
       "    }\n",
       "</style>\n",
       "<table border=\"1\" class=\"dataframe\">\n",
       "  <thead>\n",
       "    <tr style=\"text-align: right;\">\n",
       "      <th></th>\n",
       "      <th>LogisticReg Model</th>\n",
       "      <th>ClassTree Model</th>\n",
       "      <th>RandomForest Model</th>\n",
       "      <th>NaiveBayes Model</th>\n",
       "    </tr>\n",
       "  </thead>\n",
       "  <tbody>\n",
       "    <tr>\n",
       "      <th>accuracy</th>\n",
       "      <td>81.9778</td>\n",
       "      <td>78.8</td>\n",
       "      <td>81.3111</td>\n",
       "      <td>77.0667</td>\n",
       "    </tr>\n",
       "    <tr>\n",
       "      <th>precision</th>\n",
       "      <td>69.8276</td>\n",
       "      <td>53.0103</td>\n",
       "      <td>64.4737</td>\n",
       "      <td>48.3899</td>\n",
       "    </tr>\n",
       "    <tr>\n",
       "      <th>recall</th>\n",
       "      <td>32.5628</td>\n",
       "      <td>36.2814</td>\n",
       "      <td>34.4724</td>\n",
       "      <td>55.8794</td>\n",
       "    </tr>\n",
       "  </tbody>\n",
       "</table>\n",
       "</div>"
      ],
      "text/plain": [
       "          LogisticReg ClassTree RandomForest NaiveBayes\n",
       "accuracy      81.9778      78.8      81.3111    77.0667\n",
       "precision     69.8276   53.0103      64.4737    48.3899\n",
       "recall        32.5628   36.2814      34.4724    55.8794"
      ]
     },
     "execution_count": 110,
     "metadata": {},
     "output_type": "execute_result"
    }
   ],
   "source": [
    "# Evaluation Metrix for all the models\n",
    "\n",
    "100*eval_metrix"
   ]
  },
  {
   "cell_type": "code",
   "execution_count": 111,
   "metadata": {},
   "outputs": [
    {
     "data": {
      "image/png": "[encoded data removed]",
      "text/plain": [
       "<Figure size 576x360 with 1 Axes>"
      ]
     },
     "metadata": {},
     "output_type": "display_data"
    }
   ],
   "source": [
    "fig, ax=plt.subplots(figsize=(8,5))\n",
    "eval_metrix.plot(kind='bar', ax=ax)\n",
    "ax.grid();\n",
    "fig.savefig('eval_metrix.png')"
   ]
  },
  {
   "cell_type": "markdown",
   "metadata": {},
   "source": [
    "--------------------------------"
   ]
  },
  {
   "cell_type": "markdown",
   "metadata": {},
   "source": [
    "* we can see from the above graph that, \n",
    "    * In terms of accurcy, the best model is LogisticReg\n",
    "    * In terms of prcision, the best model is LogisticReg\n",
    "    * In terms of recall, the best model is NaiveBayes\n",
    "* However we can improve the performance of our model by adjusting the values of precision and recall by modifying the classification thresholds.\n",
    "\n",
    "* Here, our obective is to adjust the threshold level where LR will give a better recall than NaviveBayes.\n",
    "* We can use the `precision_recall_curve` to do this. This the role of supervisze learning in ML."
   ]
  },
  {
   "cell_type": "markdown",
   "metadata": {},
   "source": [
    "## Let now `supervise` our model by using `precision_recall_curve`"
   ]
  },
  {
   "cell_type": "code",
   "execution_count": 112,
   "metadata": {},
   "outputs": [],
   "source": [
    "precision_nb, recall_nb, thresholds_nb= precision_recall_curve(y_true=y_test, probas_pred=NBC.predict_proba(X_test)[:,1])\n",
    "precision_lr, recall_lr, thresholds_lr= precision_recall_curve(y_true=y_test, probas_pred=logistic_regression.predict_proba(X_test)[:,1])"
   ]
  },
  {
   "cell_type": "code",
   "execution_count": 113,
   "metadata": {},
   "outputs": [
    {
     "data": {
      "image/png": "[encoded data removed]",
      "text/plain": [
       "<Figure size 576x360 with 1 Axes>"
      ]
     },
     "metadata": {},
     "output_type": "display_data"
    }
   ],
   "source": [
    "# Now print out the Precision-Recall Curve to compare them\n",
    "fig, ax = plt.subplots(figsize=(8,5))\n",
    "ax.plot(precision_nb, recall_nb, label=\"NaiveBayes\")\n",
    "ax.plot(precision_lr, recall_lr, label=\"LogisticReg\")\n",
    "ax.set_xlabel('Precision')\n",
    "ax.set_ylabel('Recall')\n",
    "ax.set_title('Precision-Recall Curve')\n",
    "ax.hlines(y=0.5, xmin=0, xmax=1, color='green')\n",
    "ax.legend()\n",
    "ax.grid();"
   ]
  },
  {
   "cell_type": "markdown",
   "metadata": {},
   "source": [
    "* We can see from the graph that at the recall value shown by the stright line, LogisticReg Model is higher value than NavieBayes model.\n",
    "* So Logistic is the better model to predict the default as compare to NaiveBayes\n",
    "* But,we need to "
   ]
  },
  {
   "cell_type": "markdown",
   "metadata": {},
   "source": [
    "## Confusion matrix for modified Logistic Regression Classifier"
   ]
  },
  {
   "cell_type": "code",
   "execution_count": 114,
   "metadata": {},
   "outputs": [
    {
     "data": {
      "image/png": "[encoded data removed]",
      "text/plain": [
       "<IPython.core.display.HTML object>"
      ]
     },
     "metadata": {},
     "output_type": "display_data"
    }
   ],
   "source": [
    "fig, ax = plt.subplots(figsize=(8,5))\n",
    "ax.plot(thresholds_lr, precision_lr[1:], label=\"Precision\")\n",
    "ax.plot(thresholds_lr, recall_lr[1:], label=\"Recall\")\n",
    "ax.set_xlabel('Clasification Threshold')\n",
    "ax.set_ylabel('Precision Recall')\n",
    "ax.set_title('Logistic Regression Classifire: Precision-Recall')\n",
    "ax.hlines(y=0.6, xmin=0, xmax=1, color='pink')\n",
    "ax.legend()\n",
    "ax.grid();"
   ]
  },
  {
   "cell_type": "markdown",
   "metadata": {},
   "source": [
    "# From the above graph, we can see that we can adjust the Recall to be better that Percision by changing the classification threshold.\n",
    "### Classifier with threshold of 0.2"
   ]
  },
  {
   "cell_type": "code",
   "execution_count": 115,
   "metadata": {},
   "outputs": [],
   "source": [
    "y_pred_proba = logistic_regression.predict_proba(X_test)[:,1]\n",
    "y_pred_test = (y_pred_proba >= 0.2).astype('int')"
   ]
  },
  {
   "cell_type": "code",
   "execution_count": 116,
   "metadata": {},
   "outputs": [
    {
     "name": "stdout",
     "output_type": "stream",
     "text": [
      "Recall:  59.497487437185924\n",
      "Precision:  47.896440129449836\n"
     ]
    },
    {
     "data": {
      "text/html": [
       "<div>\n",
       "<style scoped>\n",
       "    .dataframe tbody tr th:only-of-type {\n",
       "        vertical-align: middle;\n",
       "    }\n",
       "\n",
       "    .dataframe tbody tr th {\n",
       "        vertical-align: top;\n",
       "    }\n",
       "\n",
       "    .dataframe thead th {\n",
       "        text-align: right;\n",
       "    }\n",
       "</style>\n",
       "<table border=\"1\" class=\"dataframe\">\n",
       "  <thead>\n",
       "    <tr style=\"text-align: right;\">\n",
       "      <th>Prediction/Acutal</th>\n",
       "      <th>non-default</th>\n",
       "      <th>default</th>\n",
       "      <th>Total</th>\n",
       "    </tr>\n",
       "  </thead>\n",
       "  <tbody>\n",
       "    <tr>\n",
       "      <th>non-default</th>\n",
       "      <td>2861</td>\n",
       "      <td>644</td>\n",
       "      <td>3505</td>\n",
       "    </tr>\n",
       "    <tr>\n",
       "      <th>default</th>\n",
       "      <td>403</td>\n",
       "      <td>592</td>\n",
       "      <td>995</td>\n",
       "    </tr>\n",
       "    <tr>\n",
       "      <th>Total</th>\n",
       "      <td>3264</td>\n",
       "      <td>1236</td>\n",
       "      <td>4500</td>\n",
       "    </tr>\n",
       "  </tbody>\n",
       "</table>\n",
       "</div>"
      ],
      "text/plain": [
       "Prediction   pay  default  Total\n",
       "pay         2861      644   3505\n",
       "default      403      592    995\n",
       "Total       3264     1236   4500"
      ]
     },
     "execution_count": 116,
     "metadata": {},
     "output_type": "execute_result"
    }
   ],
   "source": [
    "# Confusion matrix\n",
    "CM = confusion_matrix(y_pred=y_pred_test, y_true=y_test)\n",
    "print(\"Recall: \", 100*recall_score(y_pred=y_pred_test, y_true=y_test))\n",
    "print(\"Precision: \", 100*precision_score(y_pred=y_pred_test, y_true=y_test))\n",
    "CMatrix(CM)"
   ]
  },
  {
   "cell_type": "markdown",
   "metadata": {},
   "source": [
    "### Take the first row, and look the matrix.\n",
    "* For example `pay` by `pay` at Row 1 and Column 2:- shows the number of credit card holders who have been predicted by the logistic_regression model correctly as these who actually have paid their loan. \n",
    "* By the same token, `pay` by `default`, row 1 and column 3, are these credit card holders who have been predicted by logistic_regression model to be `defaulter` while they actually paid their loan."
   ]
  },
  {
   "cell_type": "code",
   "execution_count": 117,
   "metadata": {},
   "outputs": [
    {
     "name": "stdout",
     "output_type": "stream",
     "text": [
      "             precision    recall  f1-score   support\n",
      "\n",
      "          0       0.88      0.82      0.85      3505\n",
      "          1       0.48      0.59      0.53       995\n",
      "\n",
      "avg / total       0.79      0.77      0.78      4500\n",
      "\n"
     ]
    }
   ],
   "source": [
    "print(classification_report(y_test, y_pred_test))"
   ]
  },
  {
   "cell_type": "code",
   "execution_count": 118,
   "metadata": {},
   "outputs": [
    {
     "data": {
      "text/plain": [
       "0.5949748743718593"
      ]
     },
     "execution_count": 118,
     "metadata": {},
     "output_type": "execute_result"
    }
   ],
   "source": [
    "#Recall = TP/(TP + FP) => is a true positive rate\n",
    "Recall = 592/(592+403)\n",
    "Recall"
   ]
  },
  {
   "cell_type": "code",
   "execution_count": 119,
   "metadata": {},
   "outputs": [
    {
     "data": {
      "text/plain": [
       "0.47896440129449835"
      ]
     },
     "execution_count": 119,
     "metadata": {},
     "output_type": "execute_result"
    }
   ],
   "source": [
    "#Precision = TP/(TP + FP) => is a measure of accuracy\n",
    "Precision = 592/(592+644)\n",
    "Precision"
   ]
  },
  {
   "cell_type": "code",
   "execution_count": 57,
   "metadata": {},
   "outputs": [],
   "source": []
  },
  {
   "cell_type": "code",
   "execution_count": 66,
   "metadata": {},
   "outputs": [],
   "source": [
    "# shown the evaluation matrix\n",
    "eval_metrix.to_html('evaluation_matrix.html')"
   ]
  },
  {
   "cell_type": "code",
   "execution_count": 67,
   "metadata": {},
   "outputs": [
    {
     "data": {
      "text/html": [
       "<div>\n",
       "<style scoped>\n",
       "    .dataframe tbody tr th:only-of-type {\n",
       "        vertical-align: middle;\n",
       "    }\n",
       "\n",
       "    .dataframe tbody tr th {\n",
       "        vertical-align: top;\n",
       "    }\n",
       "\n",
       "    .dataframe thead th {\n",
       "        text-align: right;\n",
       "    }\n",
       "</style>\n",
       "<table border=\"1\" class=\"dataframe\">\n",
       "  <thead>\n",
       "    <tr style=\"text-align: right;\">\n",
       "      <th></th>\n",
       "      <th>LogisticReg Model</th>\n",
       "      <th>ClassTree Model</th>\n",
       "      <th>RandomForest Model</th>\n",
       "      <th>NaiveBayes Model</th>\n",
       "    </tr>\n",
       "  </thead>\n",
       "  <tbody>\n",
       "    <tr>\n",
       "      <th>accuracy</th>\n",
       "      <td>0.819778</td>\n",
       "      <td>0.788</td>\n",
       "      <td>0.813111</td>\n",
       "      <td>0.770667</td>\n",
       "    </tr>\n",
       "    <tr>\n",
       "      <th>precision</th>\n",
       "      <td>0.698276</td>\n",
       "      <td>0.530103</td>\n",
       "      <td>0.644737</td>\n",
       "      <td>0.483899</td>\n",
       "    </tr>\n",
       "    <tr>\n",
       "      <th>recall</th>\n",
       "      <td>0.325628</td>\n",
       "      <td>0.362814</td>\n",
       "      <td>0.344724</td>\n",
       "      <td>0.558794</td>\n",
       "    </tr>\n",
       "  </tbody>\n",
       "</table>\n",
       "</div>"
      ],
      "text/plain": [
       "          LogisticReg Model ClassTree Model RandomForest Model  \\\n",
       "accuracy           0.819778           0.788           0.813111   \n",
       "precision          0.698276        0.530103           0.644737   \n",
       "recall             0.325628        0.362814           0.344724   \n",
       "\n",
       "          NaiveBayes Model  \n",
       "accuracy          0.770667  \n",
       "precision         0.483899  \n",
       "recall            0.558794  "
      ]
     },
     "execution_count": 67,
     "metadata": {},
     "output_type": "execute_result"
    }
   ],
   "source": [
    "eval_metrix"
   ]
  },
  {
   "cell_type": "code",
   "execution_count": null,
   "metadata": {},
   "outputs": [],
   "source": []
  },
  {
   "cell_type": "markdown",
   "metadata": {},
   "source": [
    "## Let define a function for individual customer predictions using Logistic Regression¶"
   ]
  },
  {
   "cell_type": "code",
   "execution_count": 120,
   "metadata": {},
   "outputs": [],
   "source": [
    "def ind_customer_prediction(new_data):\n",
    "    data = new_data.values.reshape(1, -1)\n",
    "    data = roubust_scaler.transform(data)\n",
    "    prob = logistic_regression.predict_proba(data)[0][1]\n",
    "    if prob >= 0.2:\n",
    "        return 'Will default'\n",
    "    else:\n",
    "        return 'Will pay'"
   ]
  },
  {
   "cell_type": "code",
   "execution_count": 121,
   "metadata": {},
   "outputs": [],
   "source": [
    " pay = credit_default[credit_default['default']==0]"
   ]
  },
  {
   "cell_type": "code",
   "execution_count": 122,
   "metadata": {},
   "outputs": [
    {
     "data": {
      "text/html": [
       "<div>\n",
       "<style scoped>\n",
       "    .dataframe tbody tr th:only-of-type {\n",
       "        vertical-align: middle;\n",
       "    }\n",
       "\n",
       "    .dataframe tbody tr th {\n",
       "        vertical-align: top;\n",
       "    }\n",
       "\n",
       "    .dataframe thead th {\n",
       "        text-align: right;\n",
       "    }\n",
       "</style>\n",
       "<table border=\"1\" class=\"dataframe\">\n",
       "  <thead>\n",
       "    <tr style=\"text-align: right;\">\n",
       "      <th></th>\n",
       "      <th>limit_bal</th>\n",
       "      <th>age</th>\n",
       "      <th>pay_1</th>\n",
       "      <th>pay_2</th>\n",
       "      <th>pay_3</th>\n",
       "      <th>pay_4</th>\n",
       "      <th>pay_5</th>\n",
       "      <th>pay_6</th>\n",
       "      <th>bill_amt1</th>\n",
       "      <th>bill_amt2</th>\n",
       "      <th>...</th>\n",
       "      <th>pay_amt3</th>\n",
       "      <th>pay_amt4</th>\n",
       "      <th>pay_amt5</th>\n",
       "      <th>pay_amt6</th>\n",
       "      <th>default</th>\n",
       "      <th>grad_school</th>\n",
       "      <th>university</th>\n",
       "      <th>high_school</th>\n",
       "      <th>male</th>\n",
       "      <th>married</th>\n",
       "    </tr>\n",
       "  </thead>\n",
       "  <tbody>\n",
       "    <tr>\n",
       "      <th>2</th>\n",
       "      <td>90000</td>\n",
       "      <td>34</td>\n",
       "      <td>0</td>\n",
       "      <td>0</td>\n",
       "      <td>0</td>\n",
       "      <td>0</td>\n",
       "      <td>0</td>\n",
       "      <td>0</td>\n",
       "      <td>29239</td>\n",
       "      <td>14027</td>\n",
       "      <td>...</td>\n",
       "      <td>1000</td>\n",
       "      <td>1000</td>\n",
       "      <td>1000</td>\n",
       "      <td>5000</td>\n",
       "      <td>0</td>\n",
       "      <td>0</td>\n",
       "      <td>1</td>\n",
       "      <td>0</td>\n",
       "      <td>0</td>\n",
       "      <td>0</td>\n",
       "    </tr>\n",
       "    <tr>\n",
       "      <th>3</th>\n",
       "      <td>50000</td>\n",
       "      <td>37</td>\n",
       "      <td>0</td>\n",
       "      <td>0</td>\n",
       "      <td>0</td>\n",
       "      <td>0</td>\n",
       "      <td>0</td>\n",
       "      <td>0</td>\n",
       "      <td>46990</td>\n",
       "      <td>48233</td>\n",
       "      <td>...</td>\n",
       "      <td>1200</td>\n",
       "      <td>1100</td>\n",
       "      <td>1069</td>\n",
       "      <td>1000</td>\n",
       "      <td>0</td>\n",
       "      <td>0</td>\n",
       "      <td>1</td>\n",
       "      <td>0</td>\n",
       "      <td>0</td>\n",
       "      <td>1</td>\n",
       "    </tr>\n",
       "    <tr>\n",
       "      <th>4</th>\n",
       "      <td>50000</td>\n",
       "      <td>57</td>\n",
       "      <td>0</td>\n",
       "      <td>0</td>\n",
       "      <td>0</td>\n",
       "      <td>0</td>\n",
       "      <td>0</td>\n",
       "      <td>0</td>\n",
       "      <td>8617</td>\n",
       "      <td>5670</td>\n",
       "      <td>...</td>\n",
       "      <td>10000</td>\n",
       "      <td>9000</td>\n",
       "      <td>689</td>\n",
       "      <td>679</td>\n",
       "      <td>0</td>\n",
       "      <td>0</td>\n",
       "      <td>1</td>\n",
       "      <td>0</td>\n",
       "      <td>1</td>\n",
       "      <td>1</td>\n",
       "    </tr>\n",
       "    <tr>\n",
       "      <th>5</th>\n",
       "      <td>50000</td>\n",
       "      <td>37</td>\n",
       "      <td>0</td>\n",
       "      <td>0</td>\n",
       "      <td>0</td>\n",
       "      <td>0</td>\n",
       "      <td>0</td>\n",
       "      <td>0</td>\n",
       "      <td>64400</td>\n",
       "      <td>57069</td>\n",
       "      <td>...</td>\n",
       "      <td>657</td>\n",
       "      <td>1000</td>\n",
       "      <td>1000</td>\n",
       "      <td>800</td>\n",
       "      <td>0</td>\n",
       "      <td>1</td>\n",
       "      <td>0</td>\n",
       "      <td>0</td>\n",
       "      <td>1</td>\n",
       "      <td>0</td>\n",
       "    </tr>\n",
       "    <tr>\n",
       "      <th>6</th>\n",
       "      <td>500000</td>\n",
       "      <td>29</td>\n",
       "      <td>0</td>\n",
       "      <td>0</td>\n",
       "      <td>0</td>\n",
       "      <td>0</td>\n",
       "      <td>0</td>\n",
       "      <td>0</td>\n",
       "      <td>367965</td>\n",
       "      <td>412023</td>\n",
       "      <td>...</td>\n",
       "      <td>38000</td>\n",
       "      <td>20239</td>\n",
       "      <td>13750</td>\n",
       "      <td>13770</td>\n",
       "      <td>0</td>\n",
       "      <td>1</td>\n",
       "      <td>0</td>\n",
       "      <td>0</td>\n",
       "      <td>1</td>\n",
       "      <td>0</td>\n",
       "    </tr>\n",
       "  </tbody>\n",
       "</table>\n",
       "<p>5 rows × 26 columns</p>\n",
       "</div>"
      ],
      "text/plain": [
       "   limit_bal  age  pay_1  pay_2  pay_3  pay_4  pay_5  pay_6  bill_amt1  \\\n",
       "2      90000   34      0      0      0      0      0      0      29239   \n",
       "3      50000   37      0      0      0      0      0      0      46990   \n",
       "4      50000   57      0      0      0      0      0      0       8617   \n",
       "5      50000   37      0      0      0      0      0      0      64400   \n",
       "6     500000   29      0      0      0      0      0      0     367965   \n",
       "\n",
       "   bill_amt2   ...     pay_amt3  pay_amt4  pay_amt5  pay_amt6  default  \\\n",
       "2      14027   ...         1000      1000      1000      5000        0   \n",
       "3      48233   ...         1200      1100      1069      1000        0   \n",
       "4       5670   ...        10000      9000       689       679        0   \n",
       "5      57069   ...          657      1000      1000       800        0   \n",
       "6     412023   ...        38000     20239     13750     13770        0   \n",
       "\n",
       "   grad_school  university  high_school  male  married  \n",
       "2            0           1            0     0        0  \n",
       "3            0           1            0     0        1  \n",
       "4            0           1            0     1        1  \n",
       "5            1           0            0     1        0  \n",
       "6            1           0            0     1        0  \n",
       "\n",
       "[5 rows x 26 columns]"
      ]
     },
     "execution_count": 122,
     "metadata": {},
     "output_type": "execute_result"
    }
   ],
   "source": [
    "pay.head()"
   ]
  },
  {
   "cell_type": "code",
   "execution_count": null,
   "metadata": {},
   "outputs": [],
   "source": []
  },
  {
   "cell_type": "code",
   "execution_count": 123,
   "metadata": {},
   "outputs": [
    {
     "data": {
      "text/plain": [
       "'Will default'"
      ]
     },
     "execution_count": 123,
     "metadata": {},
     "output_type": "execute_result"
    }
   ],
   "source": [
    "from collections import OrderedDict\n",
    "\n",
    "new_customer = OrderedDict([('limit_bal', 4000), ('age', 50), ('bill_amt1', 500),\n",
    "('bill_amt2', 35509), ('bill_amt3', 689), ('bill_amt4', 0),\n",
    "('bill_amt5', 0), ('bill_amt6', 0), ('pay_amt1', 0),('pay_amt2', 35509),\n",
    "('pay_amt3', 0), ('pay_amt4', 0), ('pay_amt5', 0), ('pay_amt6', 0),\n",
    "('male', 1), ('grad_school', 0), ('university', 1), ('hight_school', 0),\n",
    "('married', 1), ('pay_1', -1), ('pay_2', -1), ('pay_3', -1),\n",
    "('pay_4', 0), ('pay_5', -1)\n",
    "                            , ('pay_6', 0)])\n",
    "\n",
    "new_customer = pd.Series(new_customer)\n",
    "ind_customer_prediction(new_customer)"
   ]
  },
  {
   "cell_type": "markdown",
   "metadata": {},
   "source": [
    "----------------------------------------------------"
   ]
  },
  {
   "cell_type": "markdown",
   "metadata": {},
   "source": [
    "-------------------End---------------------------------------"
   ]
  },
  {
   "cell_type": "code",
   "execution_count": 131,
   "metadata": {},
   "outputs": [
    {
     "name": "stderr",
     "output_type": "stream",
     "text": [
      "Using TensorFlow backend.\n"
     ]
    }
   ],
   "source": [
    "from keras.models import Sequential\n",
    "\n",
    "model = Sequential()"
   ]
  },
  {
   "cell_type": "code",
   "execution_count": 141,
   "metadata": {},
   "outputs": [],
   "source": [
    "from keras.layers import Dense\n",
    "number_inputs = 4\n",
    "number_hidden_nodes = 4\n",
    "model.add(Dense(units=number_hidden_nodes,\n",
    "                activation='relu', input_dim=number_inputs))"
   ]
  },
  {
   "cell_type": "code",
   "execution_count": 142,
   "metadata": {},
   "outputs": [],
   "source": [
    "model.compile(optimizer='adam',\n",
    "              loss='categorical_crossentropy',\n",
    "              metrics=['accuracy'])"
   ]
  },
  {
   "cell_type": "code",
   "execution_count": 143,
   "metadata": {},
   "outputs": [
    {
     "ename": "ValueError",
     "evalue": "Error when checking input: expected dense_1_input to have shape (3,) but got array with shape (25,)",
     "output_type": "error",
     "traceback": [
      "\u001b[0;31m---------------------------------------------------------------------------\u001b[0m",
      "\u001b[0;31mValueError\u001b[0m                                Traceback (most recent call last)",
      "\u001b[0;32m<ipython-input-143-8e98f4ac5e0c>\u001b[0m in \u001b[0;36m<module>\u001b[0;34m()\u001b[0m\n\u001b[1;32m      5\u001b[0m     \u001b[0mepochs\u001b[0m\u001b[0;34m=\u001b[0m\u001b[0;36m1000\u001b[0m\u001b[0;34m,\u001b[0m\u001b[0;34m\u001b[0m\u001b[0m\n\u001b[1;32m      6\u001b[0m     \u001b[0mshuffle\u001b[0m\u001b[0;34m=\u001b[0m\u001b[0;32mTrue\u001b[0m\u001b[0;34m,\u001b[0m\u001b[0;34m\u001b[0m\u001b[0m\n\u001b[0;32m----> 7\u001b[0;31m     \u001b[0mverbose\u001b[0m\u001b[0;34m=\u001b[0m\u001b[0;36m2\u001b[0m\u001b[0;34m\u001b[0m\u001b[0m\n\u001b[0m\u001b[1;32m      8\u001b[0m )\n",
      "\u001b[0;32m/anaconda3/lib/python3.6/site-packages/keras/engine/training.py\u001b[0m in \u001b[0;36mfit\u001b[0;34m(self, x, y, batch_size, epochs, verbose, callbacks, validation_split, validation_data, shuffle, class_weight, sample_weight, initial_epoch, steps_per_epoch, validation_steps, **kwargs)\u001b[0m\n\u001b[1;32m    950\u001b[0m             \u001b[0msample_weight\u001b[0m\u001b[0;34m=\u001b[0m\u001b[0msample_weight\u001b[0m\u001b[0;34m,\u001b[0m\u001b[0;34m\u001b[0m\u001b[0m\n\u001b[1;32m    951\u001b[0m             \u001b[0mclass_weight\u001b[0m\u001b[0;34m=\u001b[0m\u001b[0mclass_weight\u001b[0m\u001b[0;34m,\u001b[0m\u001b[0;34m\u001b[0m\u001b[0m\n\u001b[0;32m--> 952\u001b[0;31m             batch_size=batch_size)\n\u001b[0m\u001b[1;32m    953\u001b[0m         \u001b[0;31m# Prepare validation data.\u001b[0m\u001b[0;34m\u001b[0m\u001b[0;34m\u001b[0m\u001b[0m\n\u001b[1;32m    954\u001b[0m         \u001b[0mdo_validation\u001b[0m \u001b[0;34m=\u001b[0m \u001b[0;32mFalse\u001b[0m\u001b[0;34m\u001b[0m\u001b[0m\n",
      "\u001b[0;32m/anaconda3/lib/python3.6/site-packages/keras/engine/training.py\u001b[0m in \u001b[0;36m_standardize_user_data\u001b[0;34m(self, x, y, sample_weight, class_weight, check_array_lengths, batch_size)\u001b[0m\n\u001b[1;32m    749\u001b[0m             \u001b[0mfeed_input_shapes\u001b[0m\u001b[0;34m,\u001b[0m\u001b[0;34m\u001b[0m\u001b[0m\n\u001b[1;32m    750\u001b[0m             \u001b[0mcheck_batch_axis\u001b[0m\u001b[0;34m=\u001b[0m\u001b[0;32mFalse\u001b[0m\u001b[0;34m,\u001b[0m  \u001b[0;31m# Don't enforce the batch size.\u001b[0m\u001b[0;34m\u001b[0m\u001b[0m\n\u001b[0;32m--> 751\u001b[0;31m             exception_prefix='input')\n\u001b[0m\u001b[1;32m    752\u001b[0m \u001b[0;34m\u001b[0m\u001b[0m\n\u001b[1;32m    753\u001b[0m         \u001b[0;32mif\u001b[0m \u001b[0my\u001b[0m \u001b[0;32mis\u001b[0m \u001b[0;32mnot\u001b[0m \u001b[0;32mNone\u001b[0m\u001b[0;34m:\u001b[0m\u001b[0;34m\u001b[0m\u001b[0m\n",
      "\u001b[0;32m/anaconda3/lib/python3.6/site-packages/keras/engine/training_utils.py\u001b[0m in \u001b[0;36mstandardize_input_data\u001b[0;34m(data, names, shapes, check_batch_axis, exception_prefix)\u001b[0m\n\u001b[1;32m    136\u001b[0m                             \u001b[0;34m': expected '\u001b[0m \u001b[0;34m+\u001b[0m \u001b[0mnames\u001b[0m\u001b[0;34m[\u001b[0m\u001b[0mi\u001b[0m\u001b[0;34m]\u001b[0m \u001b[0;34m+\u001b[0m \u001b[0;34m' to have shape '\u001b[0m \u001b[0;34m+\u001b[0m\u001b[0;34m\u001b[0m\u001b[0m\n\u001b[1;32m    137\u001b[0m                             \u001b[0mstr\u001b[0m\u001b[0;34m(\u001b[0m\u001b[0mshape\u001b[0m\u001b[0;34m)\u001b[0m \u001b[0;34m+\u001b[0m \u001b[0;34m' but got array with shape '\u001b[0m \u001b[0;34m+\u001b[0m\u001b[0;34m\u001b[0m\u001b[0m\n\u001b[0;32m--> 138\u001b[0;31m                             str(data_shape))\n\u001b[0m\u001b[1;32m    139\u001b[0m     \u001b[0;32mreturn\u001b[0m \u001b[0mdata\u001b[0m\u001b[0;34m\u001b[0m\u001b[0m\n\u001b[1;32m    140\u001b[0m \u001b[0;34m\u001b[0m\u001b[0m\n",
      "\u001b[0;31mValueError\u001b[0m: Error when checking input: expected dense_1_input to have shape (3,) but got array with shape (25,)"
     ]
    }
   ],
   "source": [
    "# Fit (train) the model\n",
    "model.fit(\n",
    "    X_train,\n",
    "    y_train,\n",
    "    epochs=1000,\n",
    "    shuffle=True,\n",
    "    verbose=2\n",
    ")"
   ]
  },
  {
   "cell_type": "code",
   "execution_count": null,
   "metadata": {},
   "outputs": [],
   "source": []
  },
  {
   "cell_type": "markdown",
   "metadata": {},
   "source": [
    "# Tensorflow"
   ]
  },
  {
   "cell_type": "code",
   "execution_count": 128,
   "metadata": {},
   "outputs": [],
   "source": [
    "from sklearn.preprocessing import StandardScaler"
   ]
  },
  {
   "cell_type": "code",
   "execution_count": 129,
   "metadata": {},
   "outputs": [],
   "source": [
    "scaler = StandardScaler()"
   ]
  },
  {
   "cell_type": "code",
   "execution_count": 130,
   "metadata": {},
   "outputs": [
    {
     "data": {
      "text/plain": [
       "StandardScaler(copy=True, with_mean=True, with_std=True)"
      ]
     },
     "execution_count": 130,
     "metadata": {},
     "output_type": "execute_result"
    }
   ],
   "source": [
    "scaler.fit(credit_default.drop('default',axis=1))"
   ]
  },
  {
   "cell_type": "code",
   "execution_count": 135,
   "metadata": {},
   "outputs": [
    {
     "ename": "RuntimeError",
     "evalue": "You must compile a model before training/testing. Use `model.compile(optimizer, loss)`.",
     "output_type": "error",
     "traceback": [
      "\u001b[0;31m---------------------------------------------------------------------------\u001b[0m",
      "\u001b[0;31mRuntimeError\u001b[0m                              Traceback (most recent call last)",
      "\u001b[0;32m<ipython-input-135-8e98f4ac5e0c>\u001b[0m in \u001b[0;36m<module>\u001b[0;34m()\u001b[0m\n\u001b[1;32m      5\u001b[0m     \u001b[0mepochs\u001b[0m\u001b[0;34m=\u001b[0m\u001b[0;36m1000\u001b[0m\u001b[0;34m,\u001b[0m\u001b[0;34m\u001b[0m\u001b[0m\n\u001b[1;32m      6\u001b[0m     \u001b[0mshuffle\u001b[0m\u001b[0;34m=\u001b[0m\u001b[0;32mTrue\u001b[0m\u001b[0;34m,\u001b[0m\u001b[0;34m\u001b[0m\u001b[0m\n\u001b[0;32m----> 7\u001b[0;31m     \u001b[0mverbose\u001b[0m\u001b[0;34m=\u001b[0m\u001b[0;36m2\u001b[0m\u001b[0;34m\u001b[0m\u001b[0m\n\u001b[0m\u001b[1;32m      8\u001b[0m )\n",
      "\u001b[0;32m/anaconda3/lib/python3.6/site-packages/keras/engine/training.py\u001b[0m in \u001b[0;36mfit\u001b[0;34m(self, x, y, batch_size, epochs, verbose, callbacks, validation_split, validation_data, shuffle, class_weight, sample_weight, initial_epoch, steps_per_epoch, validation_steps, **kwargs)\u001b[0m\n\u001b[1;32m    950\u001b[0m             \u001b[0msample_weight\u001b[0m\u001b[0;34m=\u001b[0m\u001b[0msample_weight\u001b[0m\u001b[0;34m,\u001b[0m\u001b[0;34m\u001b[0m\u001b[0m\n\u001b[1;32m    951\u001b[0m             \u001b[0mclass_weight\u001b[0m\u001b[0;34m=\u001b[0m\u001b[0mclass_weight\u001b[0m\u001b[0;34m,\u001b[0m\u001b[0;34m\u001b[0m\u001b[0m\n\u001b[0;32m--> 952\u001b[0;31m             batch_size=batch_size)\n\u001b[0m\u001b[1;32m    953\u001b[0m         \u001b[0;31m# Prepare validation data.\u001b[0m\u001b[0;34m\u001b[0m\u001b[0;34m\u001b[0m\u001b[0m\n\u001b[1;32m    954\u001b[0m         \u001b[0mdo_validation\u001b[0m \u001b[0;34m=\u001b[0m \u001b[0;32mFalse\u001b[0m\u001b[0;34m\u001b[0m\u001b[0m\n",
      "\u001b[0;32m/anaconda3/lib/python3.6/site-packages/keras/engine/training.py\u001b[0m in \u001b[0;36m_standardize_user_data\u001b[0;34m(self, x, y, sample_weight, class_weight, check_array_lengths, batch_size)\u001b[0m\n\u001b[1;32m    679\u001b[0m         \u001b[0;32mif\u001b[0m \u001b[0my\u001b[0m \u001b[0;32mis\u001b[0m \u001b[0;32mnot\u001b[0m \u001b[0;32mNone\u001b[0m\u001b[0;34m:\u001b[0m\u001b[0;34m\u001b[0m\u001b[0m\n\u001b[1;32m    680\u001b[0m             \u001b[0;32mif\u001b[0m \u001b[0;32mnot\u001b[0m \u001b[0mself\u001b[0m\u001b[0;34m.\u001b[0m\u001b[0moptimizer\u001b[0m\u001b[0;34m:\u001b[0m\u001b[0;34m\u001b[0m\u001b[0m\n\u001b[0;32m--> 681\u001b[0;31m                 raise RuntimeError('You must compile a model before '\n\u001b[0m\u001b[1;32m    682\u001b[0m                                    \u001b[0;34m'training/testing. '\u001b[0m\u001b[0;34m\u001b[0m\u001b[0m\n\u001b[1;32m    683\u001b[0m                                    'Use `model.compile(optimizer, loss)`.')\n",
      "\u001b[0;31mRuntimeError\u001b[0m: You must compile a model before training/testing. Use `model.compile(optimizer, loss)`."
     ]
    }
   ],
   "source": []
  },
  {
   "cell_type": "code",
   "execution_count": null,
   "metadata": {},
   "outputs": [],
   "source": []
  },
  {
   "cell_type": "code",
   "execution_count": 124,
   "metadata": {},
   "outputs": [],
   "source": [
    "import tensorflow as tf"
   ]
  },
  {
   "cell_type": "code",
   "execution_count": 127,
   "metadata": {},
   "outputs": [
    {
     "ename": "NameError",
     "evalue": "name 'df_feat' is not defined",
     "output_type": "error",
     "traceback": [
      "\u001b[0;31m---------------------------------------------------------------------------\u001b[0m",
      "\u001b[0;31mNameError\u001b[0m                                 Traceback (most recent call last)",
      "\u001b[0;32m<ipython-input-127-df768cac27ea>\u001b[0m in \u001b[0;36m<module>\u001b[0;34m()\u001b[0m\n\u001b[0;32m----> 1\u001b[0;31m \u001b[0mX\u001b[0m \u001b[0;34m=\u001b[0m \u001b[0mdf_feat\u001b[0m\u001b[0;34m\u001b[0m\u001b[0m\n\u001b[0m",
      "\u001b[0;31mNameError\u001b[0m: name 'df_feat' is not defined"
     ]
    }
   ],
   "source": [
    "X = df_feat"
   ]
  },
  {
   "cell_type": "code",
   "execution_count": null,
   "metadata": {},
   "outputs": [],
   "source": []
  },
  {
   "cell_type": "code",
   "execution_count": null,
   "metadata": {},
   "outputs": [],
   "source": []
  },
  {
   "cell_type": "code",
   "execution_count": null,
   "metadata": {},
   "outputs": [],
   "source": []
  },
  {
   "cell_type": "code",
   "execution_count": null,
   "metadata": {},
   "outputs": [],
   "source": []
  },
  {
   "cell_type": "code",
   "execution_count": null,
   "metadata": {},
   "outputs": [],
   "source": []
  },
  {
   "cell_type": "code",
   "execution_count": null,
   "metadata": {},
   "outputs": [],
   "source": []
  }
 ],
 "metadata": {
  "kernelspec": {
   "display_name": "Python 3",
   "language": "python",
   "name": "python3"
  },
  "language_info": {
   "codemirror_mode": {
    "name": "ipython",
    "version": 3
   },
   "file_extension": ".py",
   "mimetype": "text/x-python",
   "name": "python",
   "nbconvert_exporter": "python",
   "pygments_lexer": "ipython3",
   "version": "3.6.4"
  }
 },
 "nbformat": 4,
 "nbformat_minor": 2
}
